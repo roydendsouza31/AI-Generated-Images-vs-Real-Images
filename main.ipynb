{
  "nbformat": 4,
  "nbformat_minor": 0,
  "metadata": {
    "colab": {
      "provenance": [],
      "gpuType": "T4",
      "mount_file_id": "https://github.com/roydendsouza31/AI-Generated-Images-vs-Real-Images/blob/main/main.ipynb",
      "authorship_tag": "ABX9TyOA5pg8yWJ1AAkYPrRI3YBq",
      "include_colab_link": true
    },
    "kernelspec": {
      "name": "python3",
      "display_name": "Python 3"
    },
    "language_info": {
      "name": "python"
    },
    "accelerator": "GPU"
  },
  "cells": [
    {
      "cell_type": "markdown",
      "metadata": {
        "id": "view-in-github",
        "colab_type": "text"
      },
      "source": [
        "<a href=\"https://colab.research.google.com/github/roydendsouza31/AI-Generated-Images-vs-Real-Images/blob/R1/main.ipynb\" target=\"_parent\"><img src=\"https://colab.research.google.com/assets/colab-badge.svg\" alt=\"Open In Colab\"/></a>"
      ]
    },
    {
      "cell_type": "markdown",
      "source": [
        "AI Generated Images vs Real Images"
      ],
      "metadata": {
        "id": "B-d3dJn7ZsoM"
      }
    },
    {
      "cell_type": "code",
      "source": [
        "from google.colab import drive\n",
        "drive.mount('/content/drive')\n",
        "\n",
        "!pip install kaggle\n",
        "\n",
        "import os\n",
        "os.environ['KAGGLE_CONFIG_DIR'] = '/content/drive/MyDrive/kaggle'\n",
        "\n",
        "!kaggle datasets download -d birdy654/cifake-real-and-ai-generated-synthetic-images\n",
        "\n",
        "import zipfile\n",
        "\n",
        "# Define the path to your zip file\n",
        "file_path = '/content/cifake-real-and-ai-generated-synthetic-images.zip'  # Replace 'your_file.zip' with your file's name\n",
        "\n",
        "!mkdir CIFAKE\n",
        "\n",
        "# Unzip the file to a specific destination\n",
        "with zipfile.ZipFile(file_path, 'r') as zip_ref:\n",
        "    zip_ref.extractall('/content/CIFAKE')  # Replace 'destination_folder' with your desired folder"
      ],
      "metadata": {
        "colab": {
          "base_uri": "https://localhost:8080/"
        },
        "id": "PhJ_x3_9XV7i",
        "outputId": "9081ed85-a4a6-4f9d-e727-9392c7dc34d7"
      },
      "execution_count": 1,
      "outputs": [
        {
          "output_type": "stream",
          "name": "stdout",
          "text": [
            "Mounted at /content/drive\n",
            "Requirement already satisfied: kaggle in /usr/local/lib/python3.10/dist-packages (1.5.16)\n",
            "Requirement already satisfied: six>=1.10 in /usr/local/lib/python3.10/dist-packages (from kaggle) (1.16.0)\n",
            "Requirement already satisfied: certifi in /usr/local/lib/python3.10/dist-packages (from kaggle) (2024.2.2)\n",
            "Requirement already satisfied: python-dateutil in /usr/local/lib/python3.10/dist-packages (from kaggle) (2.8.2)\n",
            "Requirement already satisfied: requests in /usr/local/lib/python3.10/dist-packages (from kaggle) (2.31.0)\n",
            "Requirement already satisfied: tqdm in /usr/local/lib/python3.10/dist-packages (from kaggle) (4.66.2)\n",
            "Requirement already satisfied: python-slugify in /usr/local/lib/python3.10/dist-packages (from kaggle) (8.0.4)\n",
            "Requirement already satisfied: urllib3 in /usr/local/lib/python3.10/dist-packages (from kaggle) (2.0.7)\n",
            "Requirement already satisfied: bleach in /usr/local/lib/python3.10/dist-packages (from kaggle) (6.1.0)\n",
            "Requirement already satisfied: webencodings in /usr/local/lib/python3.10/dist-packages (from bleach->kaggle) (0.5.1)\n",
            "Requirement already satisfied: text-unidecode>=1.3 in /usr/local/lib/python3.10/dist-packages (from python-slugify->kaggle) (1.3)\n",
            "Requirement already satisfied: charset-normalizer<4,>=2 in /usr/local/lib/python3.10/dist-packages (from requests->kaggle) (3.3.2)\n",
            "Requirement already satisfied: idna<4,>=2.5 in /usr/local/lib/python3.10/dist-packages (from requests->kaggle) (3.6)\n",
            "Downloading cifake-real-and-ai-generated-synthetic-images.zip to /content\n",
            " 91% 95.0M/105M [00:00<00:00, 144MB/s]\n",
            "100% 105M/105M [00:00<00:00, 136MB/s] \n"
          ]
        }
      ]
    },
    {
      "cell_type": "code",
      "source": [
        "dataset_dir = \"/content/CIFAKE\" # For Kaggle notebooks. If you run locally, point this line to the CIFAKE directory\n",
        "print(\"Loading dataset from: \" + dataset_dir)"
      ],
      "metadata": {
        "colab": {
          "base_uri": "https://localhost:8080/"
        },
        "id": "PmckSoLodwTO",
        "outputId": "e45216d9-8968-4d86-dbca-ede28a159af2"
      },
      "execution_count": 2,
      "outputs": [
        {
          "output_type": "stream",
          "name": "stdout",
          "text": [
            "Loading dataset from: /content/CIFAKE\n"
          ]
        }
      ]
    },
    {
      "cell_type": "code",
      "source": [
        "# Import all of the data using dataset from directory\n",
        "# If there isn't enough RAM available, consider using Tensorflow Datasets\n",
        "\n",
        "import tensorflow as tf\n",
        "\n",
        "img_height = 32 # The dataset is all 32px but this is here just to make sure\n",
        "img_width = 32\n",
        "batch_size = 32\n",
        "\n",
        "# Load the training data\n",
        "train_ds = tf.keras.utils.image_dataset_from_directory(\n",
        "  dataset_dir + \"/train\",\n",
        "  seed=123,\n",
        "  image_size=(img_height, img_width),\n",
        "  batch_size=batch_size)\n",
        "\n",
        "# Load the validation data\n",
        "val_ds = tf.keras.utils.image_dataset_from_directory(\n",
        "  dataset_dir + \"/test\",\n",
        "  seed=123,\n",
        "  image_size=(img_height, img_width),\n",
        "  batch_size=batch_size)\n",
        "\n",
        "# Quick sanity check to make sure it's all loaded properly\n",
        "print(\"Training Classes:\")\n",
        "class_names = train_ds.class_names\n",
        "print(class_names)\n",
        "\n",
        "print(\"Testing Classes:\")\n",
        "class_names = train_ds.class_names\n",
        "print(class_names)"
      ],
      "metadata": {
        "colab": {
          "base_uri": "https://localhost:8080/"
        },
        "id": "O2mMV7OXhBqq",
        "outputId": "ff546c36-34c8-46ee-cd95-688219a53438"
      },
      "execution_count": 3,
      "outputs": [
        {
          "output_type": "stream",
          "name": "stdout",
          "text": [
            "Found 100000 files belonging to 2 classes.\n",
            "Found 20000 files belonging to 2 classes.\n",
            "Training Classes:\n",
            "['FAKE', 'REAL']\n",
            "Testing Classes:\n",
            "['FAKE', 'REAL']\n"
          ]
        }
      ]
    },
    {
      "cell_type": "code",
      "source": [
        "# Building the CNN\n",
        "layers = []\n",
        "layers.append(tf.keras.layers.Rescaling(1./255)) # Normalise pixel values\n",
        "layers.append(tf.keras.layers.Conv2D(32, 3, activation='relu'))\n",
        "layers.append(tf.keras.layers.MaxPooling2D())\n",
        "layers.append(tf.keras.layers.Flatten())\n",
        "\n",
        "# Building the ANN\n",
        "layers.append(tf.keras.layers.Dense(64, activation='relu'))\n",
        "layers.append(tf.keras.layers.Dense(1, activation='sigmoid'))\n",
        "\n",
        "# Create and compile the model from layers\n",
        "model = tf.keras.Sequential(layers)\n",
        "model.compile(\n",
        "  optimizer='adam',\n",
        "  loss=tf.keras.losses.BinaryCrossentropy(),\n",
        "  metrics=['accuracy', tf.keras.metrics.Precision(), tf.keras.metrics.Recall()])\n",
        "\n",
        "# Build the model so we can see a summary\n",
        "model.build(input_shape=(None, 32, 32, 3))\n",
        "model.summary()"
      ],
      "metadata": {
        "colab": {
          "base_uri": "https://localhost:8080/"
        },
        "id": "JXdbbBCshCVJ",
        "outputId": "92365d34-9990-469b-bd0d-561d538a2adc"
      },
      "execution_count": 4,
      "outputs": [
        {
          "output_type": "stream",
          "name": "stdout",
          "text": [
            "Model: \"sequential\"\n",
            "_________________________________________________________________\n",
            " Layer (type)                Output Shape              Param #   \n",
            "=================================================================\n",
            " rescaling (Rescaling)       (None, 32, 32, 3)         0         \n",
            "                                                                 \n",
            " conv2d (Conv2D)             (None, 30, 30, 32)        896       \n",
            "                                                                 \n",
            " max_pooling2d (MaxPooling2  (None, 15, 15, 32)        0         \n",
            " D)                                                              \n",
            "                                                                 \n",
            " flatten (Flatten)           (None, 7200)              0         \n",
            "                                                                 \n",
            " dense (Dense)               (None, 64)                460864    \n",
            "                                                                 \n",
            " dense_1 (Dense)             (None, 1)                 65        \n",
            "                                                                 \n",
            "=================================================================\n",
            "Total params: 461825 (1.76 MB)\n",
            "Trainable params: 461825 (1.76 MB)\n",
            "Non-trainable params: 0 (0.00 Byte)\n",
            "_________________________________________________________________\n"
          ]
        }
      ]
    },
    {
      "cell_type": "code",
      "source": [
        "# Check if GPUs are available for training\n",
        "print(\"Num GPUs Available: \", len(tf.config.list_physical_devices('GPU')))"
      ],
      "metadata": {
        "colab": {
          "base_uri": "https://localhost:8080/"
        },
        "id": "8W8RWPPihO1-",
        "outputId": "94968532-fe93-450f-aaf3-2eb0308acfda"
      },
      "execution_count": 5,
      "outputs": [
        {
          "output_type": "stream",
          "name": "stdout",
          "text": [
            "Num GPUs Available:  1\n"
          ]
        }
      ]
    },
    {
      "cell_type": "code",
      "source": [
        "# Finally, train the model\n",
        "\n",
        "print(\"Starting training...\")\n",
        "history = model.fit(\n",
        "  train_ds,\n",
        "  validation_data=val_ds,\n",
        "  epochs=5,\n",
        "  verbose=1\n",
        ")\n",
        "\n",
        "!mkdir TrainedModelSave\n",
        "model.save(\"/content/TrainedModelSave\") # Saving the model\n",
        "\n",
        "print(\"Training finished.\")"
      ],
      "metadata": {
        "colab": {
          "base_uri": "https://localhost:8080/"
        },
        "id": "rlDDTlflhRYw",
        "outputId": "3b084738-dba4-430b-f1a2-5e343bae27f5"
      },
      "execution_count": 6,
      "outputs": [
        {
          "output_type": "stream",
          "name": "stdout",
          "text": [
            "Starting training...\n",
            "Epoch 1/5\n",
            "3125/3125 [==============================] - 27s 7ms/step - loss: 0.3190 - accuracy: 0.8620 - precision: 0.8549 - recall: 0.8719 - val_loss: 0.2663 - val_accuracy: 0.8943 - val_precision: 0.9021 - val_recall: 0.8847\n",
            "Epoch 2/5\n",
            "3125/3125 [==============================] - 23s 7ms/step - loss: 0.2245 - accuracy: 0.9095 - precision: 0.9044 - recall: 0.9159 - val_loss: 0.2386 - val_accuracy: 0.9072 - val_precision: 0.9406 - val_recall: 0.8694\n",
            "Epoch 3/5\n",
            "3125/3125 [==============================] - 25s 8ms/step - loss: 0.1885 - accuracy: 0.9247 - precision: 0.9214 - recall: 0.9286 - val_loss: 0.1898 - val_accuracy: 0.9246 - val_precision: 0.9214 - val_recall: 0.9284\n",
            "Epoch 4/5\n",
            "3125/3125 [==============================] - 22s 7ms/step - loss: 0.1647 - accuracy: 0.9346 - precision: 0.9317 - recall: 0.9378 - val_loss: 0.2098 - val_accuracy: 0.9175 - val_precision: 0.9507 - val_recall: 0.8807\n",
            "Epoch 5/5\n",
            "3125/3125 [==============================] - 23s 7ms/step - loss: 0.1430 - accuracy: 0.9437 - precision: 0.9414 - recall: 0.9463 - val_loss: 0.1921 - val_accuracy: 0.9259 - val_precision: 0.9338 - val_recall: 0.9168\n",
            "Training finished.\n"
          ]
        }
      ]
    }
  ]
}