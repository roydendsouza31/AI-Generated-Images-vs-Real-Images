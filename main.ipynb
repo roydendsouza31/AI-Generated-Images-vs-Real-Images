{
  "nbformat": 4,
  "nbformat_minor": 0,
  "metadata": {
    "colab": {
      "provenance": [],
      "gpuType": "T4",
      "include_colab_link": true
    },
    "kernelspec": {
      "name": "python3",
      "display_name": "Python 3"
    },
    "language_info": {
      "name": "python"
    },
    "accelerator": "GPU"
  },
  "cells": [
    {
      "cell_type": "markdown",
      "metadata": {
        "id": "view-in-github",
        "colab_type": "text"
      },
      "source": [
        "<a href=\"https://colab.research.google.com/github/roydendsouza31/AI-Generated-Images-vs-Real-Images/blob/R3/main.ipynb\" target=\"_parent\"><img src=\"https://colab.research.google.com/assets/colab-badge.svg\" alt=\"Open In Colab\"/></a>"
      ]
    },
    {
      "cell_type": "markdown",
      "source": [
        "# AI Generated Images vs Real Images"
      ],
      "metadata": {
        "id": "B-d3dJn7ZsoM"
      }
    },
    {
      "cell_type": "markdown",
      "source": [
        "Creating the dataset"
      ],
      "metadata": {
        "id": "B1pGmt2v1olN"
      }
    },
    {
      "cell_type": "code",
      "source": [
        "#Creating folders to store the training and testing datasets\n",
        "! mkdir -p /content/dataset_train/AIGenerated\n",
        "! mkdir -p /content/dataset_train/Real\n",
        "! mkdir -p /content/dataset_test/AIGenerated\n",
        "! mkdir -p /content/dataset_test/Real"
      ],
      "metadata": {
        "id": "a-1D18dfblyv"
      },
      "execution_count": 76,
      "outputs": []
    },
    {
      "cell_type": "markdown",
      "source": [
        "# **Getting the CIFAKE dataset**"
      ],
      "metadata": {
        "id": "xFhaTaExz3OO"
      }
    },
    {
      "cell_type": "code",
      "source": [
        "#Downloading the CIFAKE dataset from kaggle\n",
        "from google.colab import drive\n",
        "drive.mount('/content/drive')\n",
        "\n",
        "!pip install kaggle\n",
        "\n",
        "import os\n",
        "os.environ['KAGGLE_CONFIG_DIR'] = '/content/drive/MyDrive/kaggle'\n",
        "\n",
        "!kaggle datasets download -d birdy654/cifake-real-and-ai-generated-synthetic-images\n",
        "\n",
        "import zipfile\n",
        "\n",
        "# Define the path to your zip file\n",
        "file_path = '/content/cifake-real-and-ai-generated-synthetic-images.zip'  # Replace 'your_file.zip' with your file's name\n",
        "\n",
        "!mkdir CIFAKE\n",
        "\n",
        "# Unzip the file to a specific destination\n",
        "with zipfile.ZipFile(file_path, 'r') as zip_ref:\n",
        "    zip_ref.extractall('/content/CIFAKE')  # Replace 'destination_folder' with your desired folder"
      ],
      "metadata": {
        "colab": {
          "base_uri": "https://localhost:8080/"
        },
        "id": "pa8e_Ts1z0Wg",
        "outputId": "04d45f05-461e-4570-f173-d27cd4ab4bac"
      },
      "execution_count": 75,
      "outputs": [
        {
          "output_type": "stream",
          "name": "stdout",
          "text": [
            "Drive already mounted at /content/drive; to attempt to forcibly remount, call drive.mount(\"/content/drive\", force_remount=True).\n",
            "Requirement already satisfied: kaggle in /usr/local/lib/python3.10/dist-packages (1.5.16)\n",
            "Requirement already satisfied: six>=1.10 in /usr/local/lib/python3.10/dist-packages (from kaggle) (1.16.0)\n",
            "Requirement already satisfied: certifi in /usr/local/lib/python3.10/dist-packages (from kaggle) (2024.2.2)\n",
            "Requirement already satisfied: python-dateutil in /usr/local/lib/python3.10/dist-packages (from kaggle) (2.8.2)\n",
            "Requirement already satisfied: requests in /usr/local/lib/python3.10/dist-packages (from kaggle) (2.31.0)\n",
            "Requirement already satisfied: tqdm in /usr/local/lib/python3.10/dist-packages (from kaggle) (4.66.2)\n",
            "Requirement already satisfied: python-slugify in /usr/local/lib/python3.10/dist-packages (from kaggle) (8.0.4)\n",
            "Requirement already satisfied: urllib3 in /usr/local/lib/python3.10/dist-packages (from kaggle) (2.0.7)\n",
            "Requirement already satisfied: bleach in /usr/local/lib/python3.10/dist-packages (from kaggle) (6.1.0)\n",
            "Requirement already satisfied: webencodings in /usr/local/lib/python3.10/dist-packages (from bleach->kaggle) (0.5.1)\n",
            "Requirement already satisfied: text-unidecode>=1.3 in /usr/local/lib/python3.10/dist-packages (from python-slugify->kaggle) (1.3)\n",
            "Requirement already satisfied: charset-normalizer<4,>=2 in /usr/local/lib/python3.10/dist-packages (from requests->kaggle) (3.3.2)\n",
            "Requirement already satisfied: idna<4,>=2.5 in /usr/local/lib/python3.10/dist-packages (from requests->kaggle) (3.6)\n",
            "cifake-real-and-ai-generated-synthetic-images.zip: Skipping, found more recently modified local copy (use --force to force download)\n"
          ]
        }
      ]
    },
    {
      "cell_type": "code",
      "source": [
        "#Moving the images from the CIFAKE dataset to their respective folders\n",
        "!mv ./CIFAKE/train/FAKE/* ./dataset_train/AIGenerated\n",
        "!rmdir /content/CIFAKE/train/FAKE\n",
        "!mv ./CIFAKE/train/REAL/* ./dataset_train/Real\n",
        "!rmdir /content/CIFAKE/train/REAL\n",
        "!rmdir /content/CIFAKE/train\n",
        "\n",
        "!mv ./CIFAKE/test/FAKE/* ./dataset_test/AIGenerated\n",
        "!rmdir /content/CIFAKE/test/FAKE\n",
        "!mv ./CIFAKE/test/REAL/* ./dataset_test/Real\n",
        "!rmdir /content/CIFAKE/test/REAL\n",
        "!rmdir /content/CIFAKE/test\n",
        "!rmdir /content/CIFAKE"
      ],
      "metadata": {
        "colab": {
          "base_uri": "https://localhost:8080/"
        },
        "id": "o6vBvdnv1LAM",
        "outputId": "dfb8dc5e-4625-40bc-8264-f890f6b9affd"
      },
      "execution_count": 84,
      "outputs": [
        {
          "output_type": "stream",
          "name": "stdout",
          "text": [
            "mv: cannot stat './CIFAKE/train/FAKE/*': No such file or directory\n",
            "rmdir: failed to remove '/content/CIFAKE/train/FAKE': No such file or directory\n",
            "mv: cannot stat './CIFAKE/train/REAL/*': No such file or directory\n",
            "rmdir: failed to remove '/content/CIFAKE/train/REAL': No such file or directory\n",
            "rmdir: failed to remove '/content/CIFAKE/train': No such file or directory\n"
          ]
        }
      ]
    },
    {
      "cell_type": "code",
      "source": [
        "! pip install simple_image_download\n",
        "import numpy as np\n",
        "import matplotlib.pyplot as plt\n",
        "import os\n",
        "import cv2 as cv\n",
        "from simple_image_download import simple_image_download as simp\n",
        "import random\n",
        "import PIL\n",
        "import pickle"
      ],
      "metadata": {
        "id": "uLamTPbUIUJH"
      },
      "execution_count": 2,
      "outputs": []
    },
    {
      "cell_type": "code",
      "source": [
        "response = simp.simple_image_download\n",
        "limit = 100"
      ],
      "metadata": {
        "id": "kFzc-WMdRnSB"
      },
      "execution_count": 3,
      "outputs": []
    },
    {
      "cell_type": "code",
      "source": [
        "response().download(\"ai generated art\", 100)\n",
        "response().download(\"ai generated images\", 100)\n",
        "response().download(\"ai generated characters\", 100)\n",
        "response().download('stable diffusion', 100)\n",
        "response().download('dalle2 generated images', 100)\n",
        "response().download('midjourney', 100)\n",
        "response().download('cityscapes', 100)\n",
        "response().download('animals', 100)\n",
        "response().download('vehicles', 50)\n",
        "response().download('traffic', 50)\n",
        "response().download('offices', 30)\n",
        "response().download('real food images', 50)\n",
        "response().download('landscape', 13)"
      ],
      "metadata": {
        "colab": {
          "base_uri": "https://localhost:8080/"
        },
        "id": "dpn8_YWGSV3G",
        "outputId": "4cc02488-6001-4473-83c0-7da251294957"
      },
      "execution_count": 4,
      "outputs": [
        {
          "output_type": "stream",
          "name": "stdout",
          "text": [
            "HTTPConnectionPool(host='no.access', port=80): Max retries exceeded with url: / (Caused by NameResolutionError(\"<urllib3.connection.HTTPConnection object at 0x7c962c5cdd50>: Failed to resolve 'no.access' ([Errno -2] Name or service not known)\"))\n"
          ]
        }
      ]
    },
    {
      "cell_type": "code",
      "source": [
        "!mv /content/simple_images/ai\\ generated\\ art/* /content/dataset_train/ai_generated\n",
        "!mv /content/simple_images/ai\\ generated\\ characters/* /content/dataset_train/ai_generated\n",
        "!mv /content/simple_images/ai\\ generated\\ images/* /content/dataset_train/ai_generated\n",
        "!mv /content/simple_images/dalle2\\ generated\\ images/* /content/dataset_train/ai_generated\n",
        "!mv /content/simple_images/midjourney/* /content/dataset_train/ai_generated\n",
        "!mv /content/simple_images/stable\\ diffusion/* /content/dataset_train/ai_generated\n",
        "!mv /content/simple_images/animals/* /content/dataset_train/real\n",
        "!mv /content/simple_images/cityscapes/* /content/dataset_train/real\n",
        "!mv /content/simple_images/landscape/* /content/dataset_train/real\n",
        "!mv /content/simple_images/offices/* /content/dataset_train/real\n",
        "!mv /content/simple_images/real\\ food\\ images/* /content/dataset_train/real\n",
        "!mv /content/simple_images/traffic/* /content/dataset_train/real\n",
        "!mv /content/simple_images/vehicles/* /content/dataset_train/real"
      ],
      "metadata": {
        "id": "1emMgOQCgVx4"
      },
      "execution_count": 17,
      "outputs": []
    },
    {
      "cell_type": "code",
      "source": [
        "! rm -r /content/simple_images\n",
        "! rm -r sample_data"
      ],
      "metadata": {
        "id": "lDhaJH7xiK26"
      },
      "execution_count": 19,
      "outputs": []
    },
    {
      "cell_type": "code",
      "source": [
        "data = \"/content/dataset_train\"\n",
        "categories = ['Real', 'AIGenerated']"
      ],
      "metadata": {
        "id": "c2RP2S2xiY7m"
      },
      "execution_count": 23,
      "outputs": []
    },
    {
      "cell_type": "code",
      "source": [
        "import os\n",
        "\n",
        "aigenerated_folder = \"/content/dataset_train/AIGenerated\"\n",
        "for filename in os.listdir(aigenerated_folder):\n",
        "    if ' ' in filename:\n",
        "        os.rename(os.path.join(aigenerated_folder, filename), os.path.join(aigenerated_folder, filename.replace(' ', '_')))\n"
      ],
      "metadata": {
        "id": "Xmgnb66uuLuD"
      },
      "execution_count": 42,
      "outputs": []
    },
    {
      "cell_type": "code",
      "source": [
        "import os\n",
        "\n",
        "real_folder = \"/content/dataset_train/Real\"\n",
        "for filename in os.listdir(real_folder):\n",
        "    if ' ' in filename:\n",
        "        os.rename(os.path.join(real_folder, filename), os.path.join(real_folder, filename.replace(' ', '_')))\n"
      ],
      "metadata": {
        "id": "g0nYuUHltrmN"
      },
      "execution_count": 41,
      "outputs": []
    },
    {
      "cell_type": "code",
      "source": [
        "img_size = 48\n",
        "training_data = []"
      ],
      "metadata": {
        "id": "Cz-lkPaFno7r"
      },
      "execution_count": 43,
      "outputs": []
    },
    {
      "cell_type": "code",
      "source": [
        "for category in categories:\n",
        "    path = os.path.join(data, category)\n",
        "    classes = categories.index(category)\n",
        "    for img in os.listdir(path):\n",
        "        img_path = os.path.join(path, img)\n",
        "        img_array = cv.imread(img_path)\n",
        "        if img_array is not None:\n",
        "            img_resized = cv.resize(img_array, (img_size, img_size))\n",
        "            img_resized = img_resized / 255.0  # Normalize pixel values to [0, 1]\n",
        "            training_data.append([img_resized, classes])\n",
        "            print(\"Success\")\n",
        "        else:\n",
        "            print(f\"Failed to load image: \\\"{img_path}\\\"\")\n",
        "\n",
        "print(f\"Total images processed: {len(training_data)}\")"
      ],
      "metadata": {
        "colab": {
          "base_uri": "https://localhost:8080/"
        },
        "id": "N4ImGmINq4qd",
        "outputId": "5a37686b-96a6-4c7c-baa8-d30f287ce714"
      },
      "execution_count": 50,
      "outputs": [
        {
          "output_type": "stream",
          "name": "stdout",
          "text": [
            "Success\n",
            "Success\n",
            "Success\n",
            "Success\n",
            "Success\n",
            "Success\n",
            "Success\n",
            "Success\n",
            "Success\n",
            "Success\n",
            "Success\n",
            "Success\n",
            "Success\n",
            "Success\n",
            "Success\n",
            "Failed to load image: \"/content/dataset_train/Real/cityscapes_16.jpg\"\n",
            "Success\n",
            "Success\n",
            "Failed to load image: \"/content/dataset_train/Real/vehicles_30.jpg\"\n",
            "Success\n",
            "Success\n",
            "Success\n",
            "Success\n",
            "Success\n",
            "Success\n",
            "Failed to load image: \"/content/dataset_train/Real/traffic_35.jpg\"\n",
            "Failed to load image: \"/content/dataset_train/Real/real_food_images_48.jpg\"\n",
            "Success\n",
            "Success\n",
            "Success\n",
            "Success\n",
            "Success\n",
            "Success\n",
            "Success\n",
            "Success\n",
            "Success\n",
            "Success\n",
            "Success\n",
            "Success\n",
            "Success\n",
            "Success\n",
            "Success\n",
            "Success\n",
            "Success\n",
            "Success\n",
            "Success\n",
            "Success\n",
            "Success\n",
            "Success\n",
            "Success\n",
            "Success\n",
            "Success\n",
            "Success\n",
            "Success\n",
            "Success\n",
            "Success\n",
            "Success\n",
            "Failed to load image: \"/content/dataset_train/Real/cityscapes_77.jpg\"\n",
            "Success\n",
            "Success\n",
            "Success\n",
            "Success\n",
            "Success\n",
            "Success\n",
            "Success\n",
            "Success\n",
            "Success\n",
            "Success\n",
            "Success\n",
            "Success\n",
            "Success\n",
            "Success\n",
            "Success\n",
            "Success\n",
            "Success\n",
            "Success\n",
            "Success\n",
            "Success\n",
            "Failed to load image: \"/content/dataset_train/Real/cityscapes_13.jpg\"\n",
            "Success\n",
            "Success\n",
            "Success\n",
            "Failed to load image: \"/content/dataset_train/Real/cityscapes_12.jpg\"\n",
            "Success\n",
            "Success\n",
            "Success\n",
            "Success\n",
            "Success\n",
            "Success\n",
            "Success\n",
            "Success\n",
            "Success\n",
            "Success\n",
            "Success\n",
            "Failed to load image: \"/content/dataset_train/Real/cityscapes_83.jpg\"\n",
            "Success\n",
            "Success\n",
            "Success\n",
            "Success\n",
            "Success\n",
            "Success\n",
            "Success\n",
            "Failed to load image: \"/content/dataset_train/Real/cityscapes_39.jpg\"\n",
            "Success\n",
            "Failed to load image: \"/content/dataset_train/Real/animals_26.jpg\"\n",
            "Success\n",
            "Success\n",
            "Success\n",
            "Success\n",
            "Success\n",
            "Success\n",
            "Success\n",
            "Success\n",
            "Success\n",
            "Success\n",
            "Success\n",
            "Success\n",
            "Success\n",
            "Success\n",
            "Success\n",
            "Success\n",
            "Success\n",
            "Success\n",
            "Success\n",
            "Success\n",
            "Success\n",
            "Success\n",
            "Failed to load image: \"/content/dataset_train/Real/traffic_13.jpg\"\n",
            "Success\n",
            "Success\n",
            "Success\n",
            "Success\n",
            "Success\n",
            "Success\n",
            "Success\n",
            "Failed to load image: \"/content/dataset_train/Real/cityscapes_32.jpg\"\n",
            "Success\n",
            "Success\n",
            "Success\n",
            "Success\n",
            "Success\n",
            "Failed to load image: \"/content/dataset_train/Real/cityscapes_79.jpg\"\n",
            "Success\n",
            "Success\n",
            "Failed to load image: \"/content/dataset_train/Real/cityscapes_37.jpg\"\n",
            "Success\n",
            "Success\n",
            "Failed to load image: \"/content/dataset_train/Real/cityscapes_57.jpg\"\n",
            "Success\n",
            "Success\n",
            "Success\n",
            "Success\n",
            "Success\n",
            "Failed to load image: \"/content/dataset_train/Real/offices_7.jpg\"\n",
            "Success\n",
            "Success\n",
            "Success\n",
            "Success\n",
            "Success\n",
            "Failed to load image: \"/content/dataset_train/Real/cityscapes_26.jpg\"\n",
            "Success\n",
            "Failed to load image: \"/content/dataset_train/Real/cityscapes_78.jpg\"\n",
            "Success\n",
            "Success\n",
            "Success\n",
            "Success\n",
            "Success\n",
            "Success\n",
            "Success\n",
            "Success\n",
            "Success\n",
            "Success\n",
            "Success\n",
            "Success\n",
            "Success\n",
            "Success\n",
            "Success\n",
            "Success\n",
            "Failed to load image: \"/content/dataset_train/Real/traffic_14.jpg\"\n",
            "Success\n",
            "Success\n",
            "Success\n",
            "Success\n",
            "Success\n",
            "Success\n",
            "Failed to load image: \"/content/dataset_train/Real/cityscapes_56.jpg\"\n",
            "Success\n",
            "Failed to load image: \"/content/dataset_train/Real/cityscapes_90.jpg\"\n",
            "Failed to load image: \"/content/dataset_train/Real/real_food_images_8.jpg\"\n",
            "Success\n",
            "Success\n",
            "Success\n",
            "Success\n",
            "Success\n",
            "Success\n",
            "Success\n",
            "Success\n",
            "Success\n",
            "Success\n",
            "Success\n",
            "Success\n",
            "Success\n",
            "Failed to load image: \"/content/dataset_train/Real/real_food_images_50.jpg\"\n",
            "Success\n",
            "Success\n",
            "Success\n",
            "Success\n",
            "Success\n",
            "Success\n",
            "Success\n",
            "Success\n",
            "Success\n",
            "Success\n",
            "Failed to load image: \"/content/dataset_train/Real/real_food_images_23.jpg\"\n",
            "Success\n",
            "Success\n",
            "Success\n",
            "Success\n",
            "Success\n",
            "Success\n",
            "Failed to load image: \"/content/dataset_train/Real/cityscapes_88.jpg\"\n",
            "Success\n",
            "Failed to load image: \"/content/dataset_train/Real/cityscapes_98.jpg\"\n",
            "Success\n",
            "Success\n",
            "Success\n",
            "Success\n",
            "Success\n",
            "Success\n",
            "Success\n",
            "Success\n",
            "Success\n",
            "Success\n",
            "Success\n",
            "Success\n",
            "Success\n",
            "Failed to load image: \"/content/dataset_train/Real/offices_16.jpg\"\n",
            "Success\n",
            "Success\n",
            "Success\n",
            "Failed to load image: \"/content/dataset_train/Real/cityscapes_44.jpg\"\n",
            "Success\n",
            "Success\n",
            "Success\n",
            "Failed to load image: \"/content/dataset_train/Real/animals_48.jpg\"\n",
            "Success\n",
            "Success\n",
            "Success\n",
            "Success\n",
            "Success\n",
            "Success\n",
            "Success\n",
            "Success\n",
            "Success\n",
            "Success\n",
            "Success\n",
            "Success\n",
            "Success\n",
            "Success\n",
            "Success\n",
            "Success\n",
            "Success\n",
            "Success\n",
            "Success\n",
            "Success\n",
            "Failed to load image: \"/content/dataset_train/Real/landscape_12.jpg\"\n",
            "Failed to load image: \"/content/dataset_train/Real/vehicles_38.jpg\"\n",
            "Success\n",
            "Success\n",
            "Success\n",
            "Success\n",
            "Success\n",
            "Success\n",
            "Success\n",
            "Success\n",
            "Success\n",
            "Success\n",
            "Success\n",
            "Success\n",
            "Success\n",
            "Success\n",
            "Success\n",
            "Success\n",
            "Success\n",
            "Success\n",
            "Success\n",
            "Failed to load image: \"/content/dataset_train/Real/vehicles_26.jpg\"\n",
            "Success\n",
            "Success\n",
            "Success\n",
            "Success\n",
            "Success\n",
            "Failed to load image: \"/content/dataset_train/Real/vehicles_25.jpg\"\n",
            "Failed to load image: \"/content/dataset_train/Real/vehicles_13.jpg\"\n",
            "Success\n",
            "Success\n",
            "Success\n",
            "Success\n",
            "Success\n",
            "Success\n",
            "Failed to load image: \"/content/dataset_train/Real/traffic_24.jpg\"\n",
            "Success\n",
            "Success\n",
            "Failed to load image: \"/content/dataset_train/Real/animals_33.jpg\"\n",
            "Failed to load image: \"/content/dataset_train/Real/animals_82.jpg\"\n",
            "Success\n",
            "Success\n",
            "Success\n",
            "Success\n",
            "Success\n",
            "Success\n",
            "Success\n",
            "Success\n",
            "Success\n",
            "Success\n",
            "Success\n",
            "Success\n",
            "Failed to load image: \"/content/dataset_train/Real/cityscapes_100.jpg\"\n",
            "Success\n",
            "Success\n",
            "Success\n",
            "Failed to load image: \"/content/dataset_train/Real/animals_71.jpg\"\n",
            "Success\n",
            "Success\n",
            "Success\n",
            "Success\n",
            "Success\n",
            "Success\n",
            "Success\n",
            "Success\n",
            "Success\n",
            "Success\n",
            "Failed to load image: \"/content/dataset_train/Real/cityscapes_80.jpg\"\n",
            "Success\n",
            "Success\n",
            "Success\n",
            "Success\n",
            "Success\n",
            "Failed to load image: \"/content/dataset_train/Real/animals_80.jpg\"\n",
            "Success\n",
            "Success\n",
            "Success\n",
            "Success\n",
            "Success\n",
            "Success\n",
            "Success\n",
            "Success\n",
            "Success\n",
            "Success\n",
            "Success\n",
            "Success\n",
            "Success\n",
            "Success\n",
            "Success\n",
            "Success\n",
            "Success\n",
            "Success\n",
            "Success\n",
            "Success\n",
            "Success\n",
            "Success\n",
            "Success\n",
            "Success\n",
            "Failed to load image: \"/content/dataset_train/Real/vehicles_27.jpg\"\n",
            "Success\n",
            "Success\n",
            "Success\n",
            "Success\n",
            "Success\n",
            "Success\n",
            "Success\n",
            "Success\n",
            "Success\n",
            "Success\n",
            "Success\n",
            "Failed to load image: \"/content/dataset_train/Real/real_food_images_45.jpg\"\n",
            "Success\n",
            "Success\n",
            "Success\n",
            "Failed to load image: \"/content/dataset_train/Real/cityscapes_89.jpg\"\n",
            "Success\n",
            "Success\n",
            "Success\n",
            "Success\n",
            "Success\n",
            "Success\n",
            "Failed to load image: \"/content/dataset_train/Real/offices_8.jpg\"\n",
            "Success\n",
            "Success\n",
            "Success\n",
            "Success\n",
            "Success\n",
            "Failed to load image: \"/content/dataset_train/Real/cityscapes_87.jpg\"\n",
            "Success\n",
            "Failed to load image: \"/content/dataset_train/AIGenerated/ai_generated_images_54.jpg\"\n",
            "Failed to load image: \"/content/dataset_train/AIGenerated/ai_generated_characters_41.jpg\"\n",
            "Success\n",
            "Success\n",
            "Success\n",
            "Success\n",
            "Success\n",
            "Failed to load image: \"/content/dataset_train/AIGenerated/dalle2_generated_images_100.jpg\"\n",
            "Failed to load image: \"/content/dataset_train/AIGenerated/ai_generated_characters_53.jpg\"\n",
            "Success\n",
            "Success\n",
            "Success\n",
            "Success\n",
            "Failed to load image: \"/content/dataset_train/AIGenerated/ai_generated_characters_75.jpg\"\n",
            "Success\n",
            "Success\n",
            "Success\n",
            "Success\n",
            "Failed to load image: \"/content/dataset_train/AIGenerated/ai_generated_art_77.jpg\"\n",
            "Success\n",
            "Success\n",
            "Success\n",
            "Failed to load image: \"/content/dataset_train/AIGenerated/dalle2_generated_images_79.jpg\"\n",
            "Success\n",
            "Success\n",
            "Success\n",
            "Success\n",
            "Success\n",
            "Success\n",
            "Success\n",
            "Success\n",
            "Success\n",
            "Failed to load image: \"/content/dataset_train/AIGenerated/stable_diffusion_10.jpg\"\n",
            "Success\n",
            "Failed to load image: \"/content/dataset_train/AIGenerated/stable_diffusion_73.jpg\"\n",
            "Success\n",
            "Failed to load image: \"/content/dataset_train/AIGenerated/dalle2_generated_images_80.jpg\"\n",
            "Success\n",
            "Success\n",
            "Success\n",
            "Success\n",
            "Failed to load image: \"/content/dataset_train/AIGenerated/midjourney_69.jpg\"\n",
            "Failed to load image: \"/content/dataset_train/AIGenerated/ai_generated_characters_32.jpg\"\n",
            "Success\n",
            "Success\n",
            "Success\n",
            "Success\n",
            "Failed to load image: \"/content/dataset_train/AIGenerated/midjourney_17.jpg\"\n",
            "Success\n",
            "Success\n",
            "Success\n",
            "Success\n",
            "Success\n",
            "Success\n",
            "Success\n",
            "Success\n",
            "Success\n",
            "Success\n",
            "Success\n",
            "Success\n",
            "Failed to load image: \"/content/dataset_train/AIGenerated/dalle2_generated_images_31.jpg\"\n",
            "Failed to load image: \"/content/dataset_train/AIGenerated/dalle2_generated_images_8.jpg\"\n",
            "Success\n",
            "Success\n",
            "Failed to load image: \"/content/dataset_train/AIGenerated/dalle2_generated_images_25.jpg\"\n",
            "Success\n",
            "Success\n",
            "Success\n",
            "Success\n",
            "Success\n",
            "Failed to load image: \"/content/dataset_train/AIGenerated/ai_generated_art_69.jpg\"\n",
            "Success\n",
            "Success\n",
            "Success\n",
            "Failed to load image: \"/content/dataset_train/AIGenerated/ai_generated_art_52.jpg\"\n",
            "Success\n",
            "Success\n",
            "Failed to load image: \"/content/dataset_train/AIGenerated/ai_generated_art_64.jpg\"\n",
            "Success\n",
            "Success\n",
            "Success\n",
            "Failed to load image: \"/content/dataset_train/AIGenerated/dalle2_generated_images_49.jpg\"\n",
            "Failed to load image: \"/content/dataset_train/AIGenerated/ai_generated_art_38.jpg\"\n",
            "Success\n",
            "Success\n",
            "Success\n",
            "Success\n",
            "Success\n",
            "Success\n",
            "Success\n",
            "Success\n",
            "Success\n",
            "Success\n",
            "Failed to load image: \"/content/dataset_train/AIGenerated/dalle2_generated_images_27.jpg\"\n",
            "Success\n",
            "Success\n",
            "Failed to load image: \"/content/dataset_train/AIGenerated/midjourney_44.jpg\"\n",
            "Success\n",
            "Success\n",
            "Success\n",
            "Failed to load image: \"/content/dataset_train/AIGenerated/ai_generated_art_26.jpg\"\n",
            "Success\n",
            "Success\n",
            "Success\n",
            "Failed to load image: \"/content/dataset_train/AIGenerated/midjourney_27.jpg\"\n",
            "Success\n",
            "Success\n",
            "Success\n",
            "Success\n",
            "Success\n",
            "Success\n",
            "Failed to load image: \"/content/dataset_train/AIGenerated/ai_generated_characters_30.jpg\"\n",
            "Success\n",
            "Success\n",
            "Success\n",
            "Success\n",
            "Success\n",
            "Success\n",
            "Success\n",
            "Success\n",
            "Success\n",
            "Success\n",
            "Success\n",
            "Success\n",
            "Success\n",
            "Success\n",
            "Success\n",
            "Success\n",
            "Success\n",
            "Success\n",
            "Success\n",
            "Success\n",
            "Failed to load image: \"/content/dataset_train/AIGenerated/dalle2_generated_images_94.jpg\"\n",
            "Failed to load image: \"/content/dataset_train/AIGenerated/ai_generated_images_82.jpg\"\n",
            "Failed to load image: \"/content/dataset_train/AIGenerated/dalle2_generated_images_88.jpg\"\n",
            "Success\n",
            "Success\n",
            "Failed to load image: \"/content/dataset_train/AIGenerated/ai_generated_art_76.jpg\"\n",
            "Success\n",
            "Success\n",
            "Success\n",
            "Success\n",
            "Failed to load image: \"/content/dataset_train/AIGenerated/ai_generated_characters_7.jpg\"\n",
            "Success\n",
            "Failed to load image: \"/content/dataset_train/AIGenerated/ai_generated_characters_97.jpg\"\n",
            "Success\n",
            "Success\n",
            "Success\n",
            "Success\n",
            "Success\n",
            "Success\n",
            "Success\n",
            "Success\n",
            "Success\n",
            "Success\n",
            "Success\n",
            "Success\n",
            "Success\n",
            "Failed to load image: \"/content/dataset_train/AIGenerated/stable_diffusion_25.jpg\"\n",
            "Success\n",
            "Failed to load image: \"/content/dataset_train/AIGenerated/midjourney_33.jpg\"\n",
            "Success\n",
            "Success\n",
            "Success\n",
            "Success\n",
            "Success\n",
            "Success\n",
            "Success\n",
            "Success\n",
            "Success\n",
            "Success\n",
            "Success\n",
            "Success\n",
            "Success\n",
            "Success\n",
            "Success\n",
            "Failed to load image: \"/content/dataset_train/AIGenerated/midjourney_28.jpg\"\n",
            "Success\n",
            "Success\n",
            "Success\n",
            "Success\n",
            "Success\n",
            "Success\n",
            "Success\n",
            "Success\n",
            "Success\n",
            "Success\n",
            "Failed to load image: \"/content/dataset_train/AIGenerated/dalle2_generated_images_78.jpg\"\n",
            "Success\n",
            "Success\n",
            "Success\n",
            "Success\n",
            "Success\n",
            "Success\n",
            "Success\n",
            "Success\n",
            "Success\n",
            "Success\n",
            "Success\n",
            "Success\n",
            "Success\n",
            "Success\n",
            "Failed to load image: \"/content/dataset_train/AIGenerated/dalle2_generated_images_75.jpg\"\n",
            "Failed to load image: \"/content/dataset_train/AIGenerated/dalle2_generated_images_26.jpg\"\n",
            "Failed to load image: \"/content/dataset_train/AIGenerated/stable_diffusion_43.jpg\"\n",
            "Success\n",
            "Success\n",
            "Failed to load image: \"/content/dataset_train/AIGenerated/stable_diffusion_39.jpg\"\n",
            "Failed to load image: \"/content/dataset_train/AIGenerated/ai_generated_images_84.jpg\"\n",
            "Success\n",
            "Failed to load image: \"/content/dataset_train/AIGenerated/ai_generated_images_57.jpg\"\n",
            "Failed to load image: \"/content/dataset_train/AIGenerated/ai_generated_images_6.jpg\"\n",
            "Success\n",
            "Success\n",
            "Success\n",
            "Success\n",
            "Success\n",
            "Failed to load image: \"/content/dataset_train/AIGenerated/ai_generated_characters_21.jpg\"\n",
            "Failed to load image: \"/content/dataset_train/AIGenerated/dalle2_generated_images_84.jpg\"\n",
            "Failed to load image: \"/content/dataset_train/AIGenerated/ai_generated_art_18.jpg\"\n",
            "Success\n",
            "Success\n",
            "Success\n",
            "Failed to load image: \"/content/dataset_train/AIGenerated/dalle2_generated_images_53.jpg\"\n",
            "Failed to load image: \"/content/dataset_train/AIGenerated/stable_diffusion_26.jpg\"\n",
            "Success\n",
            "Failed to load image: \"/content/dataset_train/AIGenerated/dalle2_generated_images_21.jpg\"\n",
            "Success\n",
            "Success\n",
            "Success\n",
            "Success\n",
            "Success\n",
            "Success\n",
            "Success\n",
            "Success\n",
            "Success\n",
            "Success\n",
            "Failed to load image: \"/content/dataset_train/AIGenerated/ai_generated_characters_48.jpg\"\n",
            "Success\n",
            "Success\n",
            "Success\n",
            "Success\n",
            "Failed to load image: \"/content/dataset_train/AIGenerated/midjourney_40.jpg\"\n",
            "Failed to load image: \"/content/dataset_train/AIGenerated/ai_generated_characters_47.jpg\"\n",
            "Success\n",
            "Success\n",
            "Success\n",
            "Success\n",
            "Failed to load image: \"/content/dataset_train/AIGenerated/midjourney_76.jpg\"\n",
            "Success\n",
            "Success\n",
            "Success\n",
            "Success\n",
            "Failed to load image: \"/content/dataset_train/AIGenerated/ai_generated_characters_64.jpg\"\n",
            "Failed to load image: \"/content/dataset_train/AIGenerated/dalle2_generated_images_60.jpg\"\n",
            "Success\n",
            "Success\n",
            "Success\n",
            "Success\n",
            "Success\n",
            "Success\n",
            "Success\n",
            "Success\n",
            "Success\n",
            "Success\n",
            "Failed to load image: \"/content/dataset_train/AIGenerated/ai_generated_characters_6.jpg\"\n",
            "Failed to load image: \"/content/dataset_train/AIGenerated/ai_generated_images_85.jpg\"\n",
            "Success\n",
            "Success\n",
            "Failed to load image: \"/content/dataset_train/AIGenerated/dalle2_generated_images_6.jpg\"\n",
            "Success\n",
            "Failed to load image: \"/content/dataset_train/AIGenerated/stable_diffusion_72.jpg\"\n",
            "Success\n",
            "Success\n",
            "Success\n",
            "Success\n",
            "Success\n",
            "Success\n",
            "Success\n",
            "Success\n",
            "Success\n",
            "Success\n",
            "Failed to load image: \"/content/dataset_train/AIGenerated/midjourney_31.jpg\"\n",
            "Success\n",
            "Success\n",
            "Failed to load image: \"/content/dataset_train/AIGenerated/ai_generated_images_100.jpg\"\n",
            "Failed to load image: \"/content/dataset_train/AIGenerated/ai_generated_characters_42.jpg\"\n",
            "Success\n",
            "Success\n",
            "Success\n",
            "Failed to load image: \"/content/dataset_train/AIGenerated/dalle2_generated_images_24.jpg\"\n",
            "Success\n",
            "Failed to load image: \"/content/dataset_train/AIGenerated/ai_generated_characters_68.jpg\"\n",
            "Success\n",
            "Success\n",
            "Failed to load image: \"/content/dataset_train/AIGenerated/ai_generated_art_28.jpg\"\n",
            "Success\n",
            "Failed to load image: \"/content/dataset_train/AIGenerated/midjourney_82.jpg\"\n",
            "Success\n",
            "Success\n",
            "Success\n",
            "Success\n",
            "Success\n",
            "Success\n",
            "Success\n",
            "Success\n",
            "Failed to load image: \"/content/dataset_train/AIGenerated/dalle2_generated_images_23.jpg\"\n",
            "Success\n",
            "Success\n",
            "Failed to load image: \"/content/dataset_train/AIGenerated/midjourney_39.jpg\"\n",
            "Success\n",
            "Success\n",
            "Success\n",
            "Success\n",
            "Failed to load image: \"/content/dataset_train/AIGenerated/stable_diffusion_82.jpg\"\n",
            "Failed to load image: \"/content/dataset_train/AIGenerated/ai_generated_characters_58.jpg\"\n",
            "Success\n",
            "Success\n",
            "Success\n",
            "Success\n",
            "Success\n",
            "Success\n",
            "Success\n",
            "Failed to load image: \"/content/dataset_train/AIGenerated/ai_generated_characters_94.jpg\"\n",
            "Success\n",
            "Success\n",
            "Success\n",
            "Success\n",
            "Success\n",
            "Success\n",
            "Success\n",
            "Success\n",
            "Success\n",
            "Success\n",
            "Success\n",
            "Success\n",
            "Success\n",
            "Success\n",
            "Success\n",
            "Success\n",
            "Success\n",
            "Failed to load image: \"/content/dataset_train/AIGenerated/ai_generated_characters_89.jpg\"\n",
            "Success\n",
            "Success\n",
            "Success\n",
            "Failed to load image: \"/content/dataset_train/AIGenerated/stable_diffusion_74.jpg\"\n",
            "Success\n",
            "Success\n",
            "Success\n",
            "Failed to load image: \"/content/dataset_train/AIGenerated/ai_generated_characters_99.jpg\"\n",
            "Success\n",
            "Success\n",
            "Success\n",
            "Success\n",
            "Success\n",
            "Success\n",
            "Failed to load image: \"/content/dataset_train/AIGenerated/ai_generated_characters_54.jpg\"\n",
            "Success\n",
            "Success\n",
            "Success\n",
            "Success\n",
            "Failed to load image: \"/content/dataset_train/AIGenerated/ai_generated_characters_5.jpg\"\n",
            "Success\n",
            "Success\n",
            "Success\n",
            "Success\n",
            "Success\n",
            "Success\n",
            "Success\n",
            "Success\n",
            "Success\n",
            "Success\n",
            "Success\n",
            "Failed to load image: \"/content/dataset_train/AIGenerated/stable_diffusion_61.jpg\"\n",
            "Success\n",
            "Success\n",
            "Success\n",
            "Success\n",
            "Success\n",
            "Success\n",
            "Success\n",
            "Success\n",
            "Failed to load image: \"/content/dataset_train/AIGenerated/ai_generated_characters_96.jpg\"\n",
            "Success\n",
            "Failed to load image: \"/content/dataset_train/AIGenerated/ai_generated_characters_10.jpg\"\n",
            "Success\n",
            "Failed to load image: \"/content/dataset_train/AIGenerated/ai_generated_characters_59.jpg\"\n",
            "Success\n",
            "Failed to load image: \"/content/dataset_train/AIGenerated/stable_diffusion_75.jpg\"\n",
            "Success\n",
            "Success\n",
            "Success\n",
            "Success\n",
            "Success\n",
            "Success\n",
            "Success\n",
            "Success\n",
            "Success\n",
            "Failed to load image: \"/content/dataset_train/AIGenerated/midjourney_63.jpg\"\n",
            "Failed to load image: \"/content/dataset_train/AIGenerated/ai_generated_images_41.jpg\"\n",
            "Success\n",
            "Failed to load image: \"/content/dataset_train/AIGenerated/ai_generated_images_88.jpg\"\n",
            "Success\n",
            "Success\n",
            "Success\n",
            "Success\n",
            "Success\n",
            "Success\n",
            "Success\n",
            "Success\n",
            "Success\n",
            "Success\n",
            "Success\n",
            "Success\n",
            "Success\n",
            "Failed to load image: \"/content/dataset_train/AIGenerated/midjourney_54.jpg\"\n",
            "Success\n",
            "Success\n",
            "Failed to load image: \"/content/dataset_train/AIGenerated/ai_generated_art_49.jpg\"\n",
            "Failed to load image: \"/content/dataset_train/AIGenerated/midjourney_34.jpg\"\n",
            "Success\n",
            "Success\n",
            "Success\n",
            "Success\n",
            "Failed to load image: \"/content/dataset_train/AIGenerated/dalle2_generated_images_55.jpg\"\n",
            "Success\n",
            "Success\n",
            "Success\n",
            "Success\n",
            "Success\n",
            "Success\n",
            "Success\n",
            "Success\n",
            "Success\n",
            "Success\n",
            "Success\n",
            "Success\n",
            "Success\n",
            "Success\n",
            "Success\n",
            "Success\n",
            "Failed to load image: \"/content/dataset_train/AIGenerated/midjourney_15.jpg\"\n",
            "Success\n",
            "Success\n",
            "Failed to load image: \"/content/dataset_train/AIGenerated/ai_generated_images_91.jpg\"\n",
            "Failed to load image: \"/content/dataset_train/AIGenerated/ai_generated_characters_17.jpg\"\n",
            "Success\n",
            "Success\n",
            "Failed to load image: \"/content/dataset_train/AIGenerated/midjourney_24.jpg\"\n",
            "Success\n",
            "Success\n",
            "Success\n",
            "Success\n",
            "Success\n",
            "Success\n",
            "Success\n",
            "Success\n",
            "Success\n",
            "Failed to load image: \"/content/dataset_train/AIGenerated/ai_generated_images_32.jpg\"\n",
            "Success\n",
            "Success\n",
            "Success\n",
            "Success\n",
            "Success\n",
            "Success\n",
            "Failed to load image: \"/content/dataset_train/AIGenerated/stable_diffusion_51.jpg\"\n",
            "Success\n",
            "Success\n",
            "Success\n",
            "Success\n",
            "Success\n",
            "Success\n",
            "Failed to load image: \"/content/dataset_train/AIGenerated/dalle2_generated_images_15.jpg\"\n",
            "Success\n",
            "Success\n",
            "Success\n",
            "Failed to load image: \"/content/dataset_train/AIGenerated/dalle2_generated_images_34.jpg\"\n",
            "Success\n",
            "Success\n",
            "Success\n",
            "Success\n",
            "Success\n",
            "Success\n",
            "Failed to load image: \"/content/dataset_train/AIGenerated/ai_generated_art_41.jpg\"\n",
            "Failed to load image: \"/content/dataset_train/AIGenerated/ai_generated_characters_15.jpg\"\n",
            "Success\n",
            "Failed to load image: \"/content/dataset_train/AIGenerated/ai_generated_characters_8.jpg\"\n",
            "Failed to load image: \"/content/dataset_train/AIGenerated/dalle2_generated_images_63.jpg\"\n",
            "Failed to load image: \"/content/dataset_train/AIGenerated/dalle2_generated_images_20.jpg\"\n",
            "Failed to load image: \"/content/dataset_train/AIGenerated/ai_generated_images_76.jpg\"\n",
            "Success\n",
            "Success\n",
            "Success\n",
            "Success\n",
            "Success\n",
            "Success\n",
            "Success\n",
            "Success\n",
            "Success\n",
            "Success\n",
            "Success\n",
            "Success\n",
            "Success\n",
            "Success\n",
            "Success\n",
            "Success\n",
            "Success\n",
            "Failed to load image: \"/content/dataset_train/AIGenerated/ai_generated_images_27.jpg\"\n",
            "Success\n",
            "Success\n",
            "Success\n",
            "Success\n",
            "Success\n",
            "Success\n",
            "Success\n",
            "Success\n",
            "Success\n",
            "Failed to load image: \"/content/dataset_train/AIGenerated/dalle2_generated_images_61.jpg\"\n",
            "Success\n",
            "Success\n",
            "Success\n",
            "Success\n",
            "Failed to load image: \"/content/dataset_train/AIGenerated/dalle2_generated_images_28.jpg\"\n",
            "Success\n",
            "Success\n",
            "Success\n",
            "Success\n",
            "Success\n",
            "Success\n",
            "Success\n",
            "Failed to load image: \"/content/dataset_train/AIGenerated/dalle2_generated_images_99.jpg\"\n",
            "Success\n",
            "Failed to load image: \"/content/dataset_train/AIGenerated/dalle2_generated_images_5.jpg\"\n",
            "Success\n",
            "Failed to load image: \"/content/dataset_train/AIGenerated/ai_generated_art_67.jpg\"\n",
            "Success\n",
            "Success\n",
            "Failed to load image: \"/content/dataset_train/AIGenerated/ai_generated_characters_67.jpg\"\n",
            "Success\n",
            "Failed to load image: \"/content/dataset_train/AIGenerated/stable_diffusion_94.jpg\"\n",
            "Success\n",
            "Success\n",
            "Failed to load image: \"/content/dataset_train/AIGenerated/ai_generated_characters_23.jpg\"\n",
            "Success\n",
            "Success\n",
            "Failed to load image: \"/content/dataset_train/AIGenerated/stable_diffusion_27.jpg\"\n",
            "Success\n",
            "Failed to load image: \"/content/dataset_train/AIGenerated/ai_generated_art_59.jpg\"\n",
            "Success\n",
            "Success\n",
            "Success\n",
            "Success\n",
            "Success\n",
            "Failed to load image: \"/content/dataset_train/AIGenerated/ai_generated_images_47.jpg\"\n",
            "Success\n",
            "Success\n",
            "Success\n",
            "Success\n",
            "Success\n",
            "Success\n",
            "Success\n",
            "Success\n",
            "Failed to load image: \"/content/dataset_train/AIGenerated/dalle2_generated_images_74.jpg\"\n",
            "Failed to load image: \"/content/dataset_train/AIGenerated/ai_generated_images_89.jpg\"\n",
            "Success\n",
            "Success\n",
            "Failed to load image: \"/content/dataset_train/AIGenerated/ai_generated_art_25.jpg\"\n",
            "Success\n",
            "Success\n",
            "Success\n",
            "Success\n",
            "Success\n",
            "Success\n",
            "Success\n",
            "Failed to load image: \"/content/dataset_train/AIGenerated/ai_generated_characters_95.jpg\"\n",
            "Failed to load image: \"/content/dataset_train/AIGenerated/ai_generated_images_11.jpg\"\n",
            "Success\n",
            "Success\n",
            "Success\n",
            "Success\n",
            "Success\n",
            "Success\n",
            "Success\n",
            "Success\n",
            "Success\n",
            "Success\n",
            "Failed to load image: \"/content/dataset_train/AIGenerated/dalle2_generated_images_17.jpg\"\n",
            "Success\n",
            "Failed to load image: \"/content/dataset_train/AIGenerated/midjourney_18.jpg\"\n",
            "Success\n",
            "Success\n",
            "Success\n",
            "Success\n",
            "Success\n",
            "Failed to load image: \"/content/dataset_train/AIGenerated/dalle2_generated_images_62.jpg\"\n",
            "Success\n",
            "Success\n",
            "Success\n",
            "Success\n",
            "Total images processed: 1055\n"
          ]
        }
      ]
    },
    {
      "cell_type": "code",
      "source": [
        "len(training_data), training_data[0][0].shape"
      ],
      "metadata": {
        "colab": {
          "base_uri": "https://localhost:8080/"
        },
        "id": "mFsHhKcQwJRN",
        "outputId": "58d0f1ec-a869-4d84-c94c-9ff4e856c4c6"
      },
      "execution_count": 51,
      "outputs": [
        {
          "output_type": "execute_result",
          "data": {
            "text/plain": [
              "(1055, (48, 48, 3))"
            ]
          },
          "metadata": {},
          "execution_count": 51
        }
      ]
    },
    {
      "cell_type": "code",
      "source": [
        "random.shuffle(training_data)"
      ],
      "metadata": {
        "id": "kzbBhjiMwZkg"
      },
      "execution_count": 52,
      "outputs": []
    },
    {
      "cell_type": "code",
      "source": [
        "X_train = []\n",
        "y_train = []\n",
        "\n",
        "for features, label in training_data:\n",
        "    X_train.append(features)\n",
        "    y_train.append(label)\n",
        "\n",
        "X_train = np.array(X_train).reshape(-1, img_size, img_size, 3)\n",
        "y_train = np.array(y_train)"
      ],
      "metadata": {
        "id": "cJ2oTdcTwdJq"
      },
      "execution_count": 53,
      "outputs": []
    },
    {
      "cell_type": "code",
      "source": [
        "X_train.shape"
      ],
      "metadata": {
        "colab": {
          "base_uri": "https://localhost:8080/"
        },
        "id": "zSG4OnSwwgVY",
        "outputId": "cbedb513-e702-4d49-9742-69336fcae12e"
      },
      "execution_count": 54,
      "outputs": [
        {
          "output_type": "execute_result",
          "data": {
            "text/plain": [
              "(1055, 48, 48, 3)"
            ]
          },
          "metadata": {},
          "execution_count": 54
        }
      ]
    },
    {
      "cell_type": "code",
      "source": [
        "y_train.shape"
      ],
      "metadata": {
        "colab": {
          "base_uri": "https://localhost:8080/"
        },
        "id": "ed1Nkw5Twh1o",
        "outputId": "6d908e77-a782-411a-d5fc-e8b1432692ac"
      },
      "execution_count": 55,
      "outputs": [
        {
          "output_type": "execute_result",
          "data": {
            "text/plain": [
              "(1055,)"
            ]
          },
          "metadata": {},
          "execution_count": 55
        }
      ]
    },
    {
      "cell_type": "code",
      "source": [
        "X_train[0].shape"
      ],
      "metadata": {
        "colab": {
          "base_uri": "https://localhost:8080/"
        },
        "id": "2pDknEajwjiR",
        "outputId": "1c42e874-82d4-4b18-9650-3d8d1a266504"
      },
      "execution_count": 56,
      "outputs": [
        {
          "output_type": "execute_result",
          "data": {
            "text/plain": [
              "(48, 48, 3)"
            ]
          },
          "metadata": {},
          "execution_count": 56
        }
      ]
    },
    {
      "cell_type": "code",
      "source": [
        "pickle_out = open(\"X_train.pickle\", \"wb\")\n",
        "pickle.dump(X_train, pickle_out, protocol=4)\n",
        "pickle_out.close()\n",
        "\n",
        "pickle_out = open(\"y_train.pickle\", \"wb\")\n",
        "pickle.dump(y_train, pickle_out, protocol=4)\n",
        "pickle_out.close()"
      ],
      "metadata": {
        "id": "k_KrsVQrwnVn"
      },
      "execution_count": 57,
      "outputs": []
    },
    {
      "cell_type": "code",
      "source": [
        "pickle_in = open(\"X_train.pickle\", \"rb\")\n",
        "X_train = pickle.load(pickle_in)\n",
        "\n",
        "pickle_in = open(\"y_train.pickle\", \"rb\")\n",
        "y_train = pickle.load(pickle_in)"
      ],
      "metadata": {
        "id": "M_3ZwcaHwqQ5"
      },
      "execution_count": 58,
      "outputs": []
    },
    {
      "cell_type": "code",
      "source": [
        "X_train.shape"
      ],
      "metadata": {
        "colab": {
          "base_uri": "https://localhost:8080/"
        },
        "id": "8dgFcRdLwsMU",
        "outputId": "c5f0302a-76ff-4cd7-b4bc-93b167d1fad5"
      },
      "execution_count": 59,
      "outputs": [
        {
          "output_type": "execute_result",
          "data": {
            "text/plain": [
              "(1055, 48, 48, 3)"
            ]
          },
          "metadata": {},
          "execution_count": 59
        }
      ]
    },
    {
      "cell_type": "code",
      "source": [
        "y_train.shape"
      ],
      "metadata": {
        "colab": {
          "base_uri": "https://localhost:8080/"
        },
        "id": "OyiqljX0wuff",
        "outputId": "2134a9d4-11b7-4b8c-a8d1-6062005724d8"
      },
      "execution_count": 60,
      "outputs": [
        {
          "output_type": "execute_result",
          "data": {
            "text/plain": [
              "(1055,)"
            ]
          },
          "metadata": {},
          "execution_count": 60
        }
      ]
    },
    {
      "cell_type": "code",
      "source": [
        "\n",
        "import tensorflow as tf\n",
        "from tensorflow import keras\n",
        "from tensorflow.keras import layers, models, Sequential"
      ],
      "metadata": {
        "id": "rjy57n7zwxaw"
      },
      "execution_count": 61,
      "outputs": []
    },
    {
      "cell_type": "code",
      "source": [
        "model = keras.Sequential([\n",
        "    keras.layers.Conv2D(32,(3,3), activation='relu', input_shape = (48,48,3)),\n",
        "    keras.layers.MaxPool2D((2,2)),\n",
        "    keras.layers.Dropout(0.2),\n",
        "\n",
        "    keras.layers.Conv2D(64,(3,3), activation='relu'),\n",
        "    keras.layers.MaxPool2D((2,2)),\n",
        "    keras.layers.Dropout(0.2),\n",
        "\n",
        "    keras.layers.Conv2D(128,(3,3), activation='relu'),\n",
        "    keras.layers.MaxPool2D((2,2)),\n",
        "    keras.layers.Dropout(0.2),\n",
        "\n",
        "    keras.layers.Conv2D(256,(3,3), activation='relu'),\n",
        "    keras.layers.MaxPool2D((2,2)),\n",
        "    keras.layers.Dropout(0.2),\n",
        "\n",
        "    keras.layers.Flatten(),\n",
        "    keras.layers.Dense(64, activation='relu'),\n",
        "    keras.layers.Dense(64, activation='relu'),\n",
        "    keras.layers.Dense(1, activation='sigmoid')\n",
        "])\n",
        "\n",
        "model.compile(\n",
        "    optimizer='adam',\n",
        "    loss='binary_crossentropy',\n",
        "    metrics=['accuracy']\n",
        ")"
      ],
      "metadata": {
        "id": "X5W-hCbrw2j-"
      },
      "execution_count": 62,
      "outputs": []
    },
    {
      "cell_type": "code",
      "source": [
        "model.summary()"
      ],
      "metadata": {
        "colab": {
          "base_uri": "https://localhost:8080/"
        },
        "id": "7toevjZhw9uz",
        "outputId": "b3c735ba-d332-4dab-f1d9-63e217688e56"
      },
      "execution_count": 63,
      "outputs": [
        {
          "output_type": "stream",
          "name": "stdout",
          "text": [
            "Model: \"sequential\"\n",
            "_________________________________________________________________\n",
            " Layer (type)                Output Shape              Param #   \n",
            "=================================================================\n",
            " conv2d (Conv2D)             (None, 46, 46, 32)        896       \n",
            "                                                                 \n",
            " max_pooling2d (MaxPooling2  (None, 23, 23, 32)        0         \n",
            " D)                                                              \n",
            "                                                                 \n",
            " dropout (Dropout)           (None, 23, 23, 32)        0         \n",
            "                                                                 \n",
            " conv2d_1 (Conv2D)           (None, 21, 21, 64)        18496     \n",
            "                                                                 \n",
            " max_pooling2d_1 (MaxPoolin  (None, 10, 10, 64)        0         \n",
            " g2D)                                                            \n",
            "                                                                 \n",
            " dropout_1 (Dropout)         (None, 10, 10, 64)        0         \n",
            "                                                                 \n",
            " conv2d_2 (Conv2D)           (None, 8, 8, 128)         73856     \n",
            "                                                                 \n",
            " max_pooling2d_2 (MaxPoolin  (None, 4, 4, 128)         0         \n",
            " g2D)                                                            \n",
            "                                                                 \n",
            " dropout_2 (Dropout)         (None, 4, 4, 128)         0         \n",
            "                                                                 \n",
            " conv2d_3 (Conv2D)           (None, 2, 2, 256)         295168    \n",
            "                                                                 \n",
            " max_pooling2d_3 (MaxPoolin  (None, 1, 1, 256)         0         \n",
            " g2D)                                                            \n",
            "                                                                 \n",
            " dropout_3 (Dropout)         (None, 1, 1, 256)         0         \n",
            "                                                                 \n",
            " flatten (Flatten)           (None, 256)               0         \n",
            "                                                                 \n",
            " dense (Dense)               (None, 64)                16448     \n",
            "                                                                 \n",
            " dense_1 (Dense)             (None, 64)                4160      \n",
            "                                                                 \n",
            " dense_2 (Dense)             (None, 1)                 65        \n",
            "                                                                 \n",
            "=================================================================\n",
            "Total params: 409089 (1.56 MB)\n",
            "Trainable params: 409089 (1.56 MB)\n",
            "Non-trainable params: 0 (0.00 Byte)\n",
            "_________________________________________________________________\n"
          ]
        }
      ]
    },
    {
      "cell_type": "code",
      "source": [
        "model.fit(X_train, y_train, epochs=15)"
      ],
      "metadata": {
        "colab": {
          "base_uri": "https://localhost:8080/"
        },
        "id": "SOCjUen1xBkf",
        "outputId": "bcbd6412-718c-4650-f42a-5c2aa3cb5658"
      },
      "execution_count": 64,
      "outputs": [
        {
          "output_type": "stream",
          "name": "stdout",
          "text": [
            "Epoch 1/15\n",
            "33/33 [==============================] - 8s 21ms/step - loss: 0.6846 - accuracy: 0.5289\n",
            "Epoch 2/15\n",
            "33/33 [==============================] - 0s 7ms/step - loss: 0.6861 - accuracy: 0.5299\n",
            "Epoch 3/15\n",
            "33/33 [==============================] - 0s 7ms/step - loss: 0.6685 - accuracy: 0.6000\n",
            "Epoch 4/15\n",
            "33/33 [==============================] - 0s 7ms/step - loss: 0.6418 - accuracy: 0.6730\n",
            "Epoch 5/15\n",
            "33/33 [==============================] - 0s 7ms/step - loss: 0.6163 - accuracy: 0.6654\n",
            "Epoch 6/15\n",
            "33/33 [==============================] - 0s 7ms/step - loss: 0.5818 - accuracy: 0.7062\n",
            "Epoch 7/15\n",
            "33/33 [==============================] - 0s 7ms/step - loss: 0.5473 - accuracy: 0.7441\n",
            "Epoch 8/15\n",
            "33/33 [==============================] - 0s 7ms/step - loss: 0.5421 - accuracy: 0.7479\n",
            "Epoch 9/15\n",
            "33/33 [==============================] - 0s 7ms/step - loss: 0.5130 - accuracy: 0.7507\n",
            "Epoch 10/15\n",
            "33/33 [==============================] - 0s 7ms/step - loss: 0.4968 - accuracy: 0.7545\n",
            "Epoch 11/15\n",
            "33/33 [==============================] - 0s 7ms/step - loss: 0.4914 - accuracy: 0.7573\n",
            "Epoch 12/15\n",
            "33/33 [==============================] - 0s 7ms/step - loss: 0.4683 - accuracy: 0.7782\n",
            "Epoch 13/15\n",
            "33/33 [==============================] - 0s 10ms/step - loss: 0.4499 - accuracy: 0.7678\n",
            "Epoch 14/15\n",
            "33/33 [==============================] - 0s 9ms/step - loss: 0.3796 - accuracy: 0.8341\n",
            "Epoch 15/15\n",
            "33/33 [==============================] - 0s 9ms/step - loss: 0.3790 - accuracy: 0.8227\n"
          ]
        },
        {
          "output_type": "execute_result",
          "data": {
            "text/plain": [
              "<keras.src.callbacks.History at 0x7c95bd754b80>"
            ]
          },
          "metadata": {},
          "execution_count": 64
        }
      ]
    },
    {
      "cell_type": "code",
      "source": [
        "model.save(\"AIGeneratedModel.h5\")"
      ],
      "metadata": {
        "colab": {
          "base_uri": "https://localhost:8080/"
        },
        "id": "9D4dzB6NxFIZ",
        "outputId": "a116466d-f592-427e-f6c0-020048385697"
      },
      "execution_count": 65,
      "outputs": [
        {
          "output_type": "stream",
          "name": "stderr",
          "text": [
            "/usr/local/lib/python3.10/dist-packages/keras/src/engine/training.py:3103: UserWarning: You are saving your model as an HDF5 file via `model.save()`. This file format is considered legacy. We recommend using instead the native Keras format, e.g. `model.save('my_model.keras')`.\n",
            "  saving_api.save_model(\n"
          ]
        }
      ]
    },
    {
      "cell_type": "code",
      "source": [
        "model_new = keras.models.load_model(\"AIGeneratedModel.h5\")"
      ],
      "metadata": {
        "id": "lxvY_AC6xHtp"
      },
      "execution_count": 66,
      "outputs": []
    },
    {
      "cell_type": "code",
      "source": [
        "data = \"/content/dataset_test/\"\n",
        "categories = ['Real', 'AIGenerated']\n",
        "\n",
        "img_size = 48\n",
        "testing_data = []\n",
        "\n",
        "i = 0\n",
        "for category in categories:\n",
        "    path = os.path.join(data,category)\n",
        "    classes = categories.index(category)\n",
        "    for img in os.listdir(path):\n",
        "        i = i + 1\n",
        "        img_array = cv.imread(os.path.join(path,img))\n",
        "        new_array = cv.resize(img_array, (48,48))\n",
        "        new_array = new_array/255\n",
        "        testing_data.append([new_array, classes])\n",
        "\n",
        "random.shuffle(testing_data)\n",
        "\n",
        "X_test = []\n",
        "y_test = []\n",
        "\n",
        "for features, label in testing_data:\n",
        "    X_test.append(features)\n",
        "    y_test.append(label)\n",
        "\n",
        "X_test = np.array(X_test).reshape(-1, img_size, img_size, 3)\n",
        "y_test = np.array(y_test)"
      ],
      "metadata": {
        "id": "ax6xTgAXxMVc"
      },
      "execution_count": 86,
      "outputs": []
    },
    {
      "cell_type": "code",
      "source": [
        "model_new.evaluate(X_test, y_test)"
      ],
      "metadata": {
        "colab": {
          "base_uri": "https://localhost:8080/"
        },
        "id": "Ey6dayh2xpG9",
        "outputId": "8e357027-9bca-4627-f6f8-b057a297a73f"
      },
      "execution_count": 87,
      "outputs": [
        {
          "output_type": "stream",
          "name": "stdout",
          "text": [
            "625/625 [==============================] - 2s 3ms/step - loss: 0.8110 - accuracy: 0.5167\n"
          ]
        },
        {
          "output_type": "execute_result",
          "data": {
            "text/plain": [
              "[0.8110352754592896, 0.516700029373169]"
            ]
          },
          "metadata": {},
          "execution_count": 87
        }
      ]
    },
    {
      "cell_type": "code",
      "source": [
        "y_pred = model_new.predict(X_test)"
      ],
      "metadata": {
        "id": "h_2S6urV4-sZ",
        "outputId": "d0639f9c-080d-4f37-90a4-dc2356544f1b",
        "colab": {
          "base_uri": "https://localhost:8080/"
        }
      },
      "execution_count": 88,
      "outputs": [
        {
          "output_type": "stream",
          "name": "stdout",
          "text": [
            "625/625 [==============================] - 2s 3ms/step\n"
          ]
        }
      ]
    },
    {
      "cell_type": "code",
      "source": [
        "X_test.shape"
      ],
      "metadata": {
        "id": "8HlNtdK35BIm",
        "outputId": "e3526601-8869-454e-b89f-c138728843c4",
        "colab": {
          "base_uri": "https://localhost:8080/"
        }
      },
      "execution_count": 89,
      "outputs": [
        {
          "output_type": "execute_result",
          "data": {
            "text/plain": [
              "(20000, 48, 48, 3)"
            ]
          },
          "metadata": {},
          "execution_count": 89
        }
      ]
    },
    {
      "cell_type": "code",
      "source": [
        "y_test.shape"
      ],
      "metadata": {
        "id": "4SCdHNx85DZj",
        "outputId": "25a8e43a-6d76-4ca7-e160-91a1fc2f1c0b",
        "colab": {
          "base_uri": "https://localhost:8080/"
        }
      },
      "execution_count": 90,
      "outputs": [
        {
          "output_type": "execute_result",
          "data": {
            "text/plain": [
              "(20000,)"
            ]
          },
          "metadata": {},
          "execution_count": 90
        }
      ]
    },
    {
      "cell_type": "code",
      "source": [
        "y_pred.shape"
      ],
      "metadata": {
        "id": "mWvPrCzu5Ghn",
        "outputId": "efa28d8d-7118-4d4e-b544-dab5427acba2",
        "colab": {
          "base_uri": "https://localhost:8080/"
        }
      },
      "execution_count": 91,
      "outputs": [
        {
          "output_type": "execute_result",
          "data": {
            "text/plain": [
              "(20000, 1)"
            ]
          },
          "metadata": {},
          "execution_count": 91
        }
      ]
    },
    {
      "cell_type": "code",
      "source": [
        "y_predicted = []\n",
        "\n",
        "for arr in y_pred:\n",
        "    if arr[0] <= 0.5:\n",
        "        y_predicted.append(0)\n",
        "    else:\n",
        "        y_predicted.append(1)\n",
        "\n",
        "y_predicted = np.array(y_predicted)"
      ],
      "metadata": {
        "id": "46Wq1ZnX5JYi"
      },
      "execution_count": 92,
      "outputs": []
    },
    {
      "cell_type": "code",
      "source": [
        "y_predicted.shape"
      ],
      "metadata": {
        "id": "QxAZold25MHT",
        "outputId": "7651aa8e-642d-4b93-822a-135e67c490ed",
        "colab": {
          "base_uri": "https://localhost:8080/"
        }
      },
      "execution_count": 93,
      "outputs": [
        {
          "output_type": "execute_result",
          "data": {
            "text/plain": [
              "(20000,)"
            ]
          },
          "metadata": {},
          "execution_count": 93
        }
      ]
    },
    {
      "cell_type": "code",
      "source": [
        "from sklearn.metrics import classification_report\n",
        "\n",
        "print(classification_report(y_test, y_predicted))"
      ],
      "metadata": {
        "id": "V3lrKoZx5Ofi",
        "outputId": "0374ba7c-7568-45ac-eefa-fb3f006e0586",
        "colab": {
          "base_uri": "https://localhost:8080/"
        }
      },
      "execution_count": 94,
      "outputs": [
        {
          "output_type": "stream",
          "name": "stdout",
          "text": [
            "              precision    recall  f1-score   support\n",
            "\n",
            "           0       0.51      0.85      0.64     10000\n",
            "           1       0.55      0.18      0.27     10000\n",
            "\n",
            "    accuracy                           0.52     20000\n",
            "   macro avg       0.53      0.52      0.46     20000\n",
            "weighted avg       0.53      0.52      0.46     20000\n",
            "\n"
          ]
        }
      ]
    },
    {
      "cell_type": "markdown",
      "source": [
        "# Testing"
      ],
      "metadata": {
        "id": "Kb8Kmidf5Tzw"
      }
    },
    {
      "cell_type": "code",
      "source": [
        "def find_out(path_img):\n",
        "    img_arr = cv.imread(path_img)\n",
        "    plt.imshow(img_arr)\n",
        "    new_arr = cv.resize(img_arr, (48,48))\n",
        "    new_arr = new_arr/255\n",
        "    test = []\n",
        "    test.append(new_arr)\n",
        "    test = np.array(test).reshape(-1, img_size, img_size, 3)\n",
        "    y = model_new.predict(test)\n",
        "    if y[0] <= 0.5:\n",
        "        print(\"The given image is Real.\")\n",
        "    else:\n",
        "        print(\"The given image is AI Generated.\")"
      ],
      "metadata": {
        "id": "_hupl7Ie5SrP"
      },
      "execution_count": 95,
      "outputs": []
    },
    {
      "cell_type": "code",
      "source": [
        "path_img = '/content/testing/ai1.png'\n",
        "find_out(path_img)"
      ],
      "metadata": {
        "id": "kyMWSNVR5YTc",
        "outputId": "88fe3e9d-b557-428d-d23a-5e185654c9be",
        "colab": {
          "base_uri": "https://localhost:8080/",
          "height": 471
        }
      },
      "execution_count": 98,
      "outputs": [
        {
          "output_type": "stream",
          "name": "stdout",
          "text": [
            "1/1 [==============================] - 1s 743ms/step\n",
            "The given image is Real.\n"
          ]
        },
        {
          "output_type": "display_data",
          "data": {
            "text/plain": [
              "<Figure size 640x480 with 1 Axes>"
            ],
            "image/png": "[encoded data removed]"
          },
          "metadata": {}
        }
      ]
    }
  ]
}