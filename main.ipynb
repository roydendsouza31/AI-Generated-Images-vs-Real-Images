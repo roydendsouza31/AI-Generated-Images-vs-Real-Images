{
  "nbformat": 4,
  "nbformat_minor": 0,
  "metadata": {
    "colab": {
      "provenance": [],
      "include_colab_link": true
    },
    "kernelspec": {
      "name": "python3",
      "display_name": "Python 3"
    },
    "language_info": {
      "name": "python"
    }
  },
  "cells": [
    {
      "cell_type": "markdown",
      "metadata": {
        "id": "view-in-github",
        "colab_type": "text"
      },
      "source": [
        "<a href=\"https://colab.research.google.com/github/roydendsouza31/AI-Generated-Images-vs-Real-Images/blob/A1/main.ipynb\" target=\"_parent\"><img src=\"https://colab.research.google.com/assets/colab-badge.svg\" alt=\"Open In Colab\"/></a>"
      ]
    },
    {
      "cell_type": "markdown",
      "source": [
        "AI Generated Images vs Real Images"
      ],
      "metadata": {
        "id": "B-d3dJn7ZsoM"
      }
    },
    {
      "cell_type": "code",
      "source": [
        "from google.colab import drive\n",
        "drive.mount('/content/drive')\n",
        "\n",
        "!pip install kaggle\n",
        "\n",
        "import os\n",
        "os.environ['KAGGLE_CONFIG_DIR'] = '/content/drive/MyDrive/kaggle'\n",
        "\n",
        "!kaggle datasets download -d birdy654/cifake-real-and-ai-generated-synthetic-images\n",
        "\n",
        "import zipfile\n",
        "\n",
        "# Define the path to your zip file\n",
        "file_path = '/content/cifake-real-and-ai-generated-synthetic-images.zip'  # Replace 'your_file.zip' with your file's name\n",
        "\n",
        "!mkdir CIFAKE\n",
        "\n",
        "# Unzip the file to a specific destination\n",
        "with zipfile.ZipFile(file_path, 'r') as zip_ref:\n",
        "    zip_ref.extractall('/content/CIFAKE')  # Replace 'destination_folder' with your desired folder"
      ],
      "metadata": {
        "id": "dp8QWC6e4whU",
        "outputId": "95a5325a-f0ec-4c13-8b4c-08c2029c44d3",
        "colab": {
          "base_uri": "https://localhost:8080/"
        }
      },
      "execution_count": 73,
      "outputs": [
        {
          "metadata": {
            "tags": null
          },
          "name": "stdout",
          "output_type": "stream",
          "text": [
            "Drive already mounted at /content/drive; to attempt to forcibly remount, call drive.mount(\"/content/drive\", force_remount=True).\n",
            "Requirement already satisfied: kaggle in /usr/local/lib/python3.10/dist-packages (1.5.16)\n",
            "Requirement already satisfied: six>=1.10 in /usr/local/lib/python3.10/dist-packages (from kaggle) (1.16.0)\n",
            "Requirement already satisfied: certifi in /usr/local/lib/python3.10/dist-packages (from kaggle) (2024.2.2)\n",
            "Requirement already satisfied: python-dateutil in /usr/local/lib/python3.10/dist-packages (from kaggle) (2.8.2)\n",
            "Requirement already satisfied: requests in /usr/local/lib/python3.10/dist-packages (from kaggle) (2.31.0)\n",
            "Requirement already satisfied: tqdm in /usr/local/lib/python3.10/dist-packages (from kaggle) (4.66.2)\n",
            "Requirement already satisfied: python-slugify in /usr/local/lib/python3.10/dist-packages (from kaggle) (8.0.4)\n",
            "Requirement already satisfied: urllib3 in /usr/local/lib/python3.10/dist-packages (from kaggle) (2.0.7)\n",
            "Requirement already satisfied: bleach in /usr/local/lib/python3.10/dist-packages (from kaggle) (6.1.0)\n",
            "Requirement already satisfied: webencodings in /usr/local/lib/python3.10/dist-packages (from bleach->kaggle) (0.5.1)\n",
            "Requirement already satisfied: text-unidecode>=1.3 in /usr/local/lib/python3.10/dist-packages (from python-slugify->kaggle) (1.3)\n",
            "Requirement already satisfied: charset-normalizer<4,>=2 in /usr/local/lib/python3.10/dist-packages (from requests->kaggle) (3.3.2)\n",
            "Requirement already satisfied: idna<4,>=2.5 in /usr/local/lib/python3.10/dist-packages (from requests->kaggle) (3.6)\n",
            "cifake-real-and-ai-generated-synthetic-images.zip: Skipping, found more recently modified local copy (use --force to force download)\n",
            "mkdir: cannot create directory ‘CIFAKE’: File exists\n"
          ]
        }
      ]
    },
    {
      "cell_type": "code",
      "source": [
        "dataset_dir = \"/content/CIFAKE\" # For Kaggle notebooks. If you run locally, point this line to the CIFAKE directory\n",
        "print(\"Loading dataset from: \" + dataset_dir)"
      ],
      "metadata": {
        "id": "FggiCkOZ5rfi",
        "outputId": "f9c4b8dc-4f81-4d9b-a7eb-181216e76e9f",
        "colab": {
          "base_uri": "https://localhost:8080/"
        }
      },
      "execution_count": 74,
      "outputs": [
        {
          "metadata": {
            "tags": null
          },
          "name": "stdout",
          "output_type": "stream",
          "text": [
            "Loading dataset from: /content/CIFAKE\n"
          ]
        }
      ]
    },
    {
      "cell_type": "code",
      "source": [
        "# Import all of the data using dataset from directory\n",
        "# If there isn't enough RAM available, consider using Tensorflow Datasets\n",
        "\n",
        "import tensorflow as tf\n",
        "\n",
        "img_height = 32 # The dataset is all 32px but this is here just to make sure\n",
        "img_width = 32\n",
        "batch_size = 64\n",
        "\n",
        "# Load the training data\n",
        "train_ds = tf.keras.utils.image_dataset_from_directory(\n",
        "  dataset_dir + \"/train\",\n",
        "  seed=123,\n",
        "  image_size=(img_height, img_width),\n",
        "  batch_size=batch_size)\n",
        "\n",
        "# Load the validation data\n",
        "val_ds = tf.keras.utils.image_dataset_from_directory(\n",
        "  dataset_dir + \"/test\",\n",
        "  seed=123,\n",
        "  image_size=(img_height, img_width),\n",
        "  batch_size=batch_size)\n",
        "\n",
        "# Quick sanity check to make sure it's all loaded properly\n",
        "print(\"Training Classes:\")\n",
        "class_names = train_ds.class_names\n",
        "print(class_names)\n",
        "\n",
        "print(\"Testing Classes:\")\n",
        "class_names = train_ds.class_names\n",
        "print(class_names)"
      ],
      "metadata": {
        "id": "hq2IznXL5uMN",
        "outputId": "ee6b135f-33f6-4359-ea80-de15c07ab52b",
        "colab": {
          "base_uri": "https://localhost:8080/"
        }
      },
      "execution_count": 92,
      "outputs": [
        {
          "output_type": "stream",
          "name": "stdout",
          "text": [
            "Found 100000 files belonging to 2 classes.\n",
            "Found 20000 files belonging to 2 classes.\n",
            "Training Classes:\n",
            "['FAKE', 'REAL']\n",
            "Testing Classes:\n",
            "['FAKE', 'REAL']\n"
          ]
        }
      ]
    },
    {
      "cell_type": "code",
      "source": [
        "import tensorflow as tf\n",
        "\n",
        "# Define the CNN layers\n",
        "model = tf.keras.Sequential([\n",
        "    tf.keras.layers.Rescaling(1./255),  # Normalise pixel values\n",
        "    tf.keras.layers.Conv2D(32, 3, activation='relu'),\n",
        "    tf.keras.layers.Conv2D(32, 3, activation='relu'),\n",
        "    tf.keras.layers.MaxPooling2D(),\n",
        "    tf.keras.layers.Flatten(),\n",
        "    tf.keras.layers.Dropout(0.5),  # Add Dropout layer to prevent overfitting\n",
        "    tf.keras.layers.Dense(64, activation='relu'),\n",
        "    tf.keras.layers.Dense(1, activation='sigmoid')\n",
        "])\n",
        "\n",
        "# Compile the model\n",
        "model.compile(\n",
        "    optimizer='adam',\n",
        "    loss=tf.keras.losses.BinaryCrossentropy(),\n",
        "    metrics=['accuracy', tf.keras.metrics.Precision(), tf.keras.metrics.Recall()]\n",
        ")\n",
        "\n",
        "# Build the model to see a summary\n",
        "model.build(input_shape=(None, 32, 32, 3))\n",
        "model.summary()\n",
        "\n",
        "\n"
      ],
      "metadata": {
        "id": "8Tzwk1sZ50mU",
        "outputId": "ebc31b8c-8d02-441b-897a-0c2a77ff58ce",
        "colab": {
          "base_uri": "https://localhost:8080/"
        }
      },
      "execution_count": 98,
      "outputs": [
        {
          "output_type": "stream",
          "name": "stdout",
          "text": [
            "Model: \"sequential_22\"\n",
            "_________________________________________________________________\n",
            " Layer (type)                Output Shape              Param #   \n",
            "=================================================================\n",
            " rescaling_11 (Rescaling)    (None, 32, 32, 3)         0         \n",
            "                                                                 \n",
            " conv2d_18 (Conv2D)          (None, 30, 30, 32)        896       \n",
            "                                                                 \n",
            " conv2d_19 (Conv2D)          (None, 28, 28, 32)        9248      \n",
            "                                                                 \n",
            " max_pooling2d_17 (MaxPooli  (None, 14, 14, 32)        0         \n",
            " ng2D)                                                           \n",
            "                                                                 \n",
            " flatten_11 (Flatten)        (None, 6272)              0         \n",
            "                                                                 \n",
            " dropout_3 (Dropout)         (None, 6272)              0         \n",
            "                                                                 \n",
            " dense_22 (Dense)            (None, 64)                401472    \n",
            "                                                                 \n",
            " dense_23 (Dense)            (None, 1)                 65        \n",
            "                                                                 \n",
            "=================================================================\n",
            "Total params: 411681 (1.57 MB)\n",
            "Trainable params: 411681 (1.57 MB)\n",
            "Non-trainable params: 0 (0.00 Byte)\n",
            "_________________________________________________________________\n"
          ]
        }
      ]
    },
    {
      "cell_type": "code",
      "source": [
        "# Check if GPUs are available for training\n",
        "print(\"Num GPUs Available: \", len(tf.config.list_physical_devices('GPU')))"
      ],
      "metadata": {
        "id": "Fba0oYRl52YB",
        "outputId": "c5d85239-e9e1-4af1-9495-dc7b240d2959",
        "colab": {
          "base_uri": "https://localhost:8080/"
        }
      },
      "execution_count": 99,
      "outputs": [
        {
          "output_type": "stream",
          "name": "stdout",
          "text": [
            "Num GPUs Available:  1\n"
          ]
        }
      ]
    },
    {
      "cell_type": "code",
      "source": [
        "# Finally, train the model\n",
        "\n",
        "print(\"Starting training...\")\n",
        "history = model.fit(\n",
        "  train_ds,\n",
        "  validation_data=val_ds,\n",
        "  epochs=15,\n",
        "  verbose=1\n",
        ")\n",
        "\n",
        "# !mkdir TrainedModelSave\n",
        "# model.save(\"/content/TrainedModelSave\") # Saving the model\n",
        "\n",
        "print(\"Training finished.\")"
      ],
      "metadata": {
        "id": "5We0Lvnm55rx",
        "outputId": "8fd88fd2-dafb-4682-cfe6-06ca86803567",
        "colab": {
          "base_uri": "https://localhost:8080/"
        }
      },
      "execution_count": 100,
      "outputs": [
        {
          "output_type": "stream",
          "name": "stdout",
          "text": [
            "Starting training...\n",
            "Epoch 1/15\n",
            "1563/1563 [==============================] - 21s 12ms/step - loss: 0.3268 - accuracy: 0.8555 - precision_11: 0.8480 - recall_11: 0.8663 - val_loss: 0.2167 - val_accuracy: 0.9159 - val_precision_11: 0.9229 - val_recall_11: 0.9076\n",
            "Epoch 2/15\n",
            "1563/1563 [==============================] - 17s 11ms/step - loss: 0.2151 - accuracy: 0.9141 - precision_11: 0.9122 - recall_11: 0.9163 - val_loss: 0.1917 - val_accuracy: 0.9213 - val_precision_11: 0.8963 - val_recall_11: 0.9528\n",
            "Epoch 3/15\n",
            "1563/1563 [==============================] - 17s 11ms/step - loss: 0.1822 - accuracy: 0.9280 - precision_11: 0.9281 - recall_11: 0.9279 - val_loss: 0.1596 - val_accuracy: 0.9388 - val_precision_11: 0.9357 - val_recall_11: 0.9425\n",
            "Epoch 4/15\n",
            "1563/1563 [==============================] - 20s 13ms/step - loss: 0.1632 - accuracy: 0.9358 - precision_11: 0.9362 - recall_11: 0.9353 - val_loss: 0.1691 - val_accuracy: 0.9323 - val_precision_11: 0.9540 - val_recall_11: 0.9085\n",
            "Epoch 5/15\n",
            "1563/1563 [==============================] - 17s 11ms/step - loss: 0.1514 - accuracy: 0.9411 - precision_11: 0.9412 - recall_11: 0.9409 - val_loss: 0.1615 - val_accuracy: 0.9359 - val_precision_11: 0.9159 - val_recall_11: 0.9601\n",
            "Epoch 6/15\n",
            "1563/1563 [==============================] - 17s 11ms/step - loss: 0.1374 - accuracy: 0.9473 - precision_11: 0.9476 - recall_11: 0.9469 - val_loss: 0.1792 - val_accuracy: 0.9301 - val_precision_11: 0.9677 - val_recall_11: 0.8899\n",
            "Epoch 7/15\n",
            "1563/1563 [==============================] - 18s 11ms/step - loss: 0.1304 - accuracy: 0.9495 - precision_11: 0.9498 - recall_11: 0.9492 - val_loss: 0.1410 - val_accuracy: 0.9438 - val_precision_11: 0.9320 - val_recall_11: 0.9576\n",
            "Epoch 8/15\n",
            "1563/1563 [==============================] - 19s 12ms/step - loss: 0.1194 - accuracy: 0.9543 - precision_11: 0.9543 - recall_11: 0.9542 - val_loss: 0.1478 - val_accuracy: 0.9414 - val_precision_11: 0.9460 - val_recall_11: 0.9364\n",
            "Epoch 9/15\n",
            "1563/1563 [==============================] - 17s 11ms/step - loss: 0.1114 - accuracy: 0.9559 - precision_11: 0.9554 - recall_11: 0.9565 - val_loss: 0.1443 - val_accuracy: 0.9428 - val_precision_11: 0.9409 - val_recall_11: 0.9451\n",
            "Epoch 10/15\n",
            "1563/1563 [==============================] - 18s 11ms/step - loss: 0.1035 - accuracy: 0.9599 - precision_11: 0.9591 - recall_11: 0.9607 - val_loss: 0.1455 - val_accuracy: 0.9448 - val_precision_11: 0.9601 - val_recall_11: 0.9281\n",
            "Epoch 11/15\n",
            "1563/1563 [==============================] - 18s 12ms/step - loss: 0.0959 - accuracy: 0.9628 - precision_11: 0.9617 - recall_11: 0.9641 - val_loss: 0.1444 - val_accuracy: 0.9457 - val_precision_11: 0.9306 - val_recall_11: 0.9634\n",
            "Epoch 12/15\n",
            "1563/1563 [==============================] - 18s 11ms/step - loss: 0.0908 - accuracy: 0.9651 - precision_11: 0.9644 - recall_11: 0.9659 - val_loss: 0.1426 - val_accuracy: 0.9477 - val_precision_11: 0.9551 - val_recall_11: 0.9395\n",
            "Epoch 13/15\n",
            "1563/1563 [==============================] - 18s 11ms/step - loss: 0.0866 - accuracy: 0.9664 - precision_11: 0.9654 - recall_11: 0.9674 - val_loss: 0.1652 - val_accuracy: 0.9396 - val_precision_11: 0.9128 - val_recall_11: 0.9720\n",
            "Epoch 14/15\n",
            "1563/1563 [==============================] - 18s 11ms/step - loss: 0.0801 - accuracy: 0.9692 - precision_11: 0.9679 - recall_11: 0.9706 - val_loss: 0.1449 - val_accuracy: 0.9469 - val_precision_11: 0.9498 - val_recall_11: 0.9436\n",
            "Epoch 15/15\n",
            "1563/1563 [==============================] - 17s 11ms/step - loss: 0.0773 - accuracy: 0.9707 - precision_11: 0.9698 - recall_11: 0.9716 - val_loss: 0.1573 - val_accuracy: 0.9424 - val_precision_11: 0.9350 - val_recall_11: 0.9510\n",
            "Training finished.\n"
          ]
        }
      ]
    },
    {
      "cell_type": "code",
      "source": [],
      "metadata": {
        "id": "uBeic6gT0kCZ"
      },
      "execution_count": 100,
      "outputs": []
    },
    {
      "cell_type": "code",
      "source": [
        "# Evaluate the model on the test dataset\n",
        "loss, accuracy, precision, recall = model.evaluate(val_ds)\n",
        "\n",
        "# Print the evaluation metrics\n",
        "print(f\"Test Loss: {loss}\")\n",
        "print(f\"Test Accuracy: {accuracy}\")\n",
        "print(f\"Test Precision: {precision}\")\n",
        "print(f\"Test Recall: {recall}\")\n"
      ],
      "metadata": {
        "id": "PVKMgU6f3HDy",
        "outputId": "5643f980-05ac-4435-8da3-d022e527da47",
        "colab": {
          "base_uri": "https://localhost:8080/"
        }
      },
      "execution_count": 102,
      "outputs": [
        {
          "output_type": "stream",
          "name": "stdout",
          "text": [
            "313/313 [==============================] - 4s 12ms/step - loss: 0.1573 - accuracy: 0.9424 - precision_11: 0.9350 - recall_11: 0.9510\n",
            "Test Loss: 0.15732809901237488\n",
            "Test Accuracy: 0.9424499869346619\n",
            "Test Precision: 0.9350113272666931\n",
            "Test Recall: 0.9509999752044678\n"
          ]
        }
      ]
    },
    {
      "cell_type": "code",
      "source": [
        "# Plot training and validation accuracy on the same plot\n",
        "plt.plot(history.history['accuracy'], label='Training Accuracy')\n",
        "plt.plot(history.history['val_accuracy'], label='Validation Accuracy')\n",
        "plt.xlabel('Epoch')\n",
        "plt.ylabel('Accuracy')\n",
        "plt.title('Training and Validation Accuracy')\n",
        "plt.legend()\n",
        "plt.show()"
      ],
      "metadata": {
        "id": "Fc2-T7GH4Crh",
        "outputId": "701709e9-b205-41f3-a861-1a472ea05d9b",
        "colab": {
          "base_uri": "https://localhost:8080/",
          "height": 472
        }
      },
      "execution_count": 103,
      "outputs": [
        {
          "output_type": "display_data",
          "data": {
            "text/plain": [
              "<Figure size 640x480 with 1 Axes>"
            ],
            "image/png": "[encoded data removed]"
          },
          "metadata": {}
        }
      ]
    }
  ]
}