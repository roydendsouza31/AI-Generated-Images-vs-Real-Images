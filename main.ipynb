{
  "nbformat": 4,
  "nbformat_minor": 0,
  "metadata": {
    "colab": {
      "provenance": [],
      "gpuType": "T4",
      "include_colab_link": true
    },
    "kernelspec": {
      "name": "python3",
      "display_name": "Python 3"
    },
    "language_info": {
      "name": "python"
    },
    "accelerator": "GPU"
  },
  "cells": [
    {
      "cell_type": "markdown",
      "metadata": {
        "id": "view-in-github",
        "colab_type": "text"
      },
      "source": [
        "<a href=\"https://colab.research.google.com/github/roydendsouza31/AI-Generated-Images-vs-Real-Images/blob/R2/main.ipynb\" target=\"_parent\"><img src=\"https://colab.research.google.com/assets/colab-badge.svg\" alt=\"Open In Colab\"/></a>"
      ]
    },
    {
      "cell_type": "markdown",
      "source": [
        "AI Generated Images vs Real Images"
      ],
      "metadata": {
        "id": "B-d3dJn7ZsoM"
      }
    },
    {
      "cell_type": "code",
      "source": [
        "import pandas as pd\n",
        "import numpy as np\n",
        "import seaborn as sns\n",
        "import matplotlib.pyplot as plt\n",
        "import os\n",
        "import random\n",
        "import cv2\n",
        "import sklearn\n",
        "import torch\n",
        "from PIL import Image\n",
        "from pathlib import Path\n",
        "from fastai.vision.all import *\n",
        "from fastai.callback import *\n",
        "from fastai.metrics import error_rate\n",
        "from fastai.callback.tracker import EarlyStoppingCallback\n",
        "from fastai.vision.all import get_image_files\n",
        "from sklearn.metrics import classification_report\n",
        "from sklearn.metrics import confusion_matrix\n",
        "\n",
        "import warnings\n",
        "warnings.filterwarnings ('ignore')"
      ],
      "metadata": {
        "id": "2OKSIBUo5gni"
      },
      "execution_count": null,
      "outputs": []
    },
    {
      "cell_type": "code",
      "source": [
        "from google.colab import drive\n",
        "drive.mount('/content/drive')\n",
        "\n",
        "!pip install kaggle\n",
        "\n",
        "import os\n",
        "os.environ['KAGGLE_CONFIG_DIR'] = '/content/drive/MyDrive/kaggle'\n",
        "\n",
        "!kaggle datasets download -d cashbowman/ai-generated-images-vs-real-images\n",
        "\n",
        "import zipfile\n",
        "\n",
        "# Define the path to your zip file\n",
        "file_path = '/content/ai-generated-images-vs-real-images.zip'  # Replace 'your_file.zip' with your file's name\n",
        "\n",
        "!mkdir aigeneratedimagesvsrealimages\n",
        "\n",
        "# Unzip the file to a specific destination\n",
        "with zipfile.ZipFile(file_path, 'r') as zip_ref:\n",
        "    zip_ref.extractall('/content/aigeneratedimagesvsrealimages')  # Replace 'destination_folder' with your desired folder"
      ],
      "metadata": {
        "id": "asIoXWqv5hQV"
      },
      "execution_count": null,
      "outputs": []
    },
    {
      "cell_type": "code",
      "source": [
        "path = Path('/content/aigeneratedimagesvsrealimages')\n",
        "path.ls()\n",
        "dls = ImageDataLoaders.from_folder(path, train='train', valid_pct=0.2,\n",
        "                                          item_tfms=Resize(460),\n",
        "                                          batch_tfms=[*aug_transforms(size=224), Normalize.from_stats(*imagenet_stats)])"
      ],
      "metadata": {
        "id": "SqIvVEdn7XYZ"
      },
      "execution_count": null,
      "outputs": []
    },
    {
      "cell_type": "code",
      "source": [
        "len(dls.train_ds)"
      ],
      "metadata": {
        "id": "QPVTd_3E7grF"
      },
      "execution_count": null,
      "outputs": []
    },
    {
      "cell_type": "code",
      "source": [
        "len(dls.valid_ds)"
      ],
      "metadata": {
        "id": "VCWETDSY7rqo"
      },
      "execution_count": null,
      "outputs": []
    },
    {
      "cell_type": "code",
      "source": [
        "print(dls.vocab)"
      ],
      "metadata": {
        "id": "-2DoZK9M7vyZ"
      },
      "execution_count": null,
      "outputs": []
    },
    {
      "cell_type": "code",
      "source": [
        "dls.show_batch()"
      ],
      "metadata": {
        "id": "SvGyYAUl7zd0"
      },
      "execution_count": null,
      "outputs": []
    },
    {
      "cell_type": "code",
      "source": [
        "learn = vision_learner(dls, resnet34, metrics=accuracy)"
      ],
      "metadata": {
        "id": "16ZT7GZ278TV"
      },
      "execution_count": null,
      "outputs": []
    },
    {
      "cell_type": "code",
      "source": [
        "learn.summary()"
      ],
      "metadata": {
        "id": "qrHOAOpt7_ez"
      },
      "execution_count": null,
      "outputs": []
    },
    {
      "cell_type": "code",
      "source": [
        "learn.model_dir = \"/kaggle/working/\""
      ],
      "metadata": {
        "id": "H12P_r398GqD"
      },
      "execution_count": null,
      "outputs": []
    },
    {
      "cell_type": "code",
      "source": [
        "suggest_funcs = (minimum, steep, valley, slide)\n",
        "\n",
        "lrs = learn.lr_find(suggest_funcs=suggest_funcs)"
      ],
      "metadata": {
        "id": "cVR-Gd0N8KmY"
      },
      "execution_count": null,
      "outputs": []
    },
    {
      "cell_type": "code",
      "source": [
        "learn.fit_one_cycle(5, lr_max=slice(lrs.valley, lrs.slide))\n",
        "learn.recorder.plot_loss()"
      ],
      "metadata": {
        "id": "Zrkr4sLX8PlC"
      },
      "execution_count": null,
      "outputs": []
    },
    {
      "cell_type": "code",
      "source": [
        "learn.unfreeze()\n",
        "lrs = learn.lr_find(suggest_funcs=(minimum, steep, valley, slide))"
      ],
      "metadata": {
        "id": "-BsXYVee8TKL"
      },
      "execution_count": null,
      "outputs": []
    },
    {
      "cell_type": "code",
      "source": [
        "learn.fit_one_cycle(10, lr_max=slice(lrs.valley, lrs.slide))\n",
        "learn.recorder.plot_loss()"
      ],
      "metadata": {
        "id": "ndILSKHP8ZYN"
      },
      "execution_count": null,
      "outputs": []
    },
    {
      "cell_type": "code",
      "source": [
        "# Save the trained model\n",
        "learn.export('/content/drive/MyDrive/aigeneratedimagesvsrealimages.pkl')\n",
        "# Load the saved model\n",
        "#learn = load_learner('/content/drive/MyDrive/aigeneratedimagesvsrealimages.pkl')"
      ],
      "metadata": {
        "id": "uZ9dm_YiDI5b"
      },
      "execution_count": 20,
      "outputs": []
    },
    {
      "cell_type": "code",
      "source": [
        "learn.show_results()"
      ],
      "metadata": {
        "id": "C1276CwB8cZY"
      },
      "execution_count": null,
      "outputs": []
    },
    {
      "cell_type": "code",
      "source": [
        "interp = ClassificationInterpretation.from_learner(learn)\n",
        "interp.plot_confusion_matrix()"
      ],
      "metadata": {
        "id": "iBwRp7uB8c8P"
      },
      "execution_count": null,
      "outputs": []
    },
    {
      "cell_type": "code",
      "source": [
        "interp.plot_top_losses(20,figsize = (20,15))"
      ],
      "metadata": {
        "id": "hukOkFaI8hrI"
      },
      "execution_count": null,
      "outputs": []
    },
    {
      "cell_type": "code",
      "source": [
        "preds, targets = learn.get_preds()\n",
        "\n",
        "class_report = classification_report(targets, torch.argmax(preds, dim=1), target_names=dls.vocab)\n",
        "print(class_report)"
      ],
      "metadata": {
        "id": "s_h2hoLB8iRd"
      },
      "execution_count": null,
      "outputs": []
    },
    {
      "cell_type": "code",
      "source": [],
      "metadata": {
        "id": "c5Hd4oTmC3KZ"
      },
      "execution_count": null,
      "outputs": []
    }
  ]
}