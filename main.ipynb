{
  "nbformat": 4,
  "nbformat_minor": 0,
  "metadata": {
    "colab": {
      "provenance": [],
      "include_colab_link": true
    },
    "kernelspec": {
      "name": "python3",
      "display_name": "Python 3"
    },
    "language_info": {
      "name": "python"
    }
  },
  "cells": [
    {
      "cell_type": "markdown",
      "metadata": {
        "id": "view-in-github",
        "colab_type": "text"
      },
      "source": [
        "<a href=\"https://colab.research.google.com/github/roydendsouza31/AI-Generated-Images-vs-Real-Images/blob/A1/main.ipynb\" target=\"_parent\"><img src=\"https://colab.research.google.com/assets/colab-badge.svg\" alt=\"Open In Colab\"/></a>"
      ]
    },
    {
      "cell_type": "markdown",
      "source": [
        "AI Generated Images vs Real Images"
      ],
      "metadata": {
        "id": "B-d3dJn7ZsoM"
      }
    },
    {
      "cell_type": "code",
      "source": [
        "from google.colab import drive\n",
        "drive.mount('/content/drive')\n",
        "\n",
        "!pip install kaggle\n",
        "\n",
        "import os\n",
        "os.environ['KAGGLE_CONFIG_DIR'] = '/content/drive/MyDrive/kaggle'\n",
        "\n",
        "!kaggle datasets download -d birdy654/cifake-real-and-ai-generated-synthetic-images\n",
        "\n",
        "import zipfile\n",
        "\n",
        "# Define the path to your zip file\n",
        "file_path = '/content/cifake-real-and-ai-generated-synthetic-images.zip'  # Replace 'your_file.zip' with your file's name\n",
        "\n",
        "!mkdir CIFAKE\n",
        "\n",
        "# Unzip the file to a specific destination\n",
        "with zipfile.ZipFile(file_path, 'r') as zip_ref:\n",
        "    zip_ref.extractall('/content/CIFAKE')  # Replace 'destination_folder' with your desired folder"
      ],
      "metadata": {
        "id": "dp8QWC6e4whU",
        "outputId": "63a76cd6-4a99-4466-edd8-353a3f846063",
        "colab": {
          "base_uri": "https://localhost:8080/"
        }
      },
      "execution_count": 14,
      "outputs": [
        {
          "output_type": "stream",
          "name": "stdout",
          "text": [
            "Drive already mounted at /content/drive; to attempt to forcibly remount, call drive.mount(\"/content/drive\", force_remount=True).\n",
            "Requirement already satisfied: kaggle in /usr/local/lib/python3.10/dist-packages (1.5.16)\n",
            "Requirement already satisfied: six>=1.10 in /usr/local/lib/python3.10/dist-packages (from kaggle) (1.16.0)\n",
            "Requirement already satisfied: certifi in /usr/local/lib/python3.10/dist-packages (from kaggle) (2024.2.2)\n",
            "Requirement already satisfied: python-dateutil in /usr/local/lib/python3.10/dist-packages (from kaggle) (2.8.2)\n",
            "Requirement already satisfied: requests in /usr/local/lib/python3.10/dist-packages (from kaggle) (2.31.0)\n",
            "Requirement already satisfied: tqdm in /usr/local/lib/python3.10/dist-packages (from kaggle) (4.66.2)\n",
            "Requirement already satisfied: python-slugify in /usr/local/lib/python3.10/dist-packages (from kaggle) (8.0.4)\n",
            "Requirement already satisfied: urllib3 in /usr/local/lib/python3.10/dist-packages (from kaggle) (2.0.7)\n",
            "Requirement already satisfied: bleach in /usr/local/lib/python3.10/dist-packages (from kaggle) (6.1.0)\n",
            "Requirement already satisfied: webencodings in /usr/local/lib/python3.10/dist-packages (from bleach->kaggle) (0.5.1)\n",
            "Requirement already satisfied: text-unidecode>=1.3 in /usr/local/lib/python3.10/dist-packages (from python-slugify->kaggle) (1.3)\n",
            "Requirement already satisfied: charset-normalizer<4,>=2 in /usr/local/lib/python3.10/dist-packages (from requests->kaggle) (3.3.2)\n",
            "Requirement already satisfied: idna<4,>=2.5 in /usr/local/lib/python3.10/dist-packages (from requests->kaggle) (3.6)\n",
            "cifake-real-and-ai-generated-synthetic-images.zip: Skipping, found more recently modified local copy (use --force to force download)\n",
            "mkdir: cannot create directory ‘CIFAKE’: File exists\n"
          ]
        }
      ]
    },
    {
      "cell_type": "code",
      "source": [
        "dataset_dir = \"/content/CIFAKE\" # For Kaggle notebooks. If you run locally, point this line to the CIFAKE directory\n",
        "print(\"Loading dataset from: \" + dataset_dir)"
      ],
      "metadata": {
        "id": "FggiCkOZ5rfi",
        "outputId": "e9f8222f-34ba-4633-97dc-7b1e67339cc0",
        "colab": {
          "base_uri": "https://localhost:8080/"
        }
      },
      "execution_count": 15,
      "outputs": [
        {
          "output_type": "stream",
          "name": "stdout",
          "text": [
            "Loading dataset from: /content/CIFAKE\n"
          ]
        }
      ]
    },
    {
      "cell_type": "code",
      "source": [
        "# Import all of the data using dataset from directory\n",
        "# If there isn't enough RAM available, consider using Tensorflow Datasets\n",
        "\n",
        "import tensorflow as tf\n",
        "\n",
        "img_height = 32 # The dataset is all 32px but this is here just to make sure\n",
        "img_width = 32\n",
        "batch_size = 32\n",
        "\n",
        "# Load the training data\n",
        "train_ds = tf.keras.utils.image_dataset_from_directory(\n",
        "  dataset_dir + \"/train\",\n",
        "  seed=123,\n",
        "  image_size=(img_height, img_width),\n",
        "  batch_size=batch_size)\n",
        "\n",
        "# Load the validation data\n",
        "val_ds = tf.keras.utils.image_dataset_from_directory(\n",
        "  dataset_dir + \"/test\",\n",
        "  seed=123,\n",
        "  image_size=(img_height, img_width),\n",
        "  batch_size=batch_size)\n",
        "\n",
        "# Quick sanity check to make sure it's all loaded properly\n",
        "print(\"Training Classes:\")\n",
        "class_names = train_ds.class_names\n",
        "print(class_names)\n",
        "\n",
        "print(\"Testing Classes:\")\n",
        "class_names = train_ds.class_names\n",
        "print(class_names)"
      ],
      "metadata": {
        "id": "hq2IznXL5uMN",
        "outputId": "a3219845-c710-408c-93ca-8761e7e693d4",
        "colab": {
          "base_uri": "https://localhost:8080/"
        }
      },
      "execution_count": 16,
      "outputs": [
        {
          "output_type": "stream",
          "name": "stdout",
          "text": [
            "Found 100000 files belonging to 2 classes.\n",
            "Found 20000 files belonging to 2 classes.\n",
            "Training Classes:\n",
            "['FAKE', 'REAL']\n",
            "Testing Classes:\n",
            "['FAKE', 'REAL']\n"
          ]
        }
      ]
    },
    {
      "cell_type": "code",
      "source": [
        "# Building the CNN\n",
        "layers = []\n",
        "layers.append(tf.keras.layers.Rescaling(1./255)) # Normalise pixel values\n",
        "layers.append(tf.keras.layers.Conv2D(32, 3, activation='relu'))\n",
        "layers.append(tf.keras.layers.MaxPooling2D())\n",
        "layers.append(tf.keras.layers.Flatten())\n",
        "\n",
        "# Building the ANN\n",
        "layers.append(tf.keras.layers.Dense(64, activation='relu'))\n",
        "layers.append(tf.keras.layers.Dense(1, activation='sigmoid'))\n",
        "\n",
        "# Create and compile the model from layers\n",
        "model = tf.keras.Sequential(layers)\n",
        "model.compile(\n",
        "  optimizer='adam',\n",
        "  loss=tf.keras.losses.BinaryCrossentropy(),\n",
        "  metrics=['accuracy', tf.keras.metrics.Precision(), tf.keras.metrics.Recall()])\n",
        "\n",
        "# Build the model so we can see a summary\n",
        "model.build(input_shape=(None, 32, 32, 3))\n",
        "model.summary()"
      ],
      "metadata": {
        "id": "8Tzwk1sZ50mU",
        "outputId": "b5952ae8-d158-4a99-d509-4acb80a696dc",
        "colab": {
          "base_uri": "https://localhost:8080/"
        }
      },
      "execution_count": 17,
      "outputs": [
        {
          "output_type": "stream",
          "name": "stdout",
          "text": [
            "Model: \"sequential_1\"\n",
            "_________________________________________________________________\n",
            " Layer (type)                Output Shape              Param #   \n",
            "=================================================================\n",
            " rescaling_1 (Rescaling)     (None, 32, 32, 3)         0         \n",
            "                                                                 \n",
            " conv2d_1 (Conv2D)           (None, 30, 30, 32)        896       \n",
            "                                                                 \n",
            " max_pooling2d_1 (MaxPoolin  (None, 15, 15, 32)        0         \n",
            " g2D)                                                            \n",
            "                                                                 \n",
            " flatten_1 (Flatten)         (None, 7200)              0         \n",
            "                                                                 \n",
            " dense_2 (Dense)             (None, 64)                460864    \n",
            "                                                                 \n",
            " dense_3 (Dense)             (None, 1)                 65        \n",
            "                                                                 \n",
            "=================================================================\n",
            "Total params: 461825 (1.76 MB)\n",
            "Trainable params: 461825 (1.76 MB)\n",
            "Non-trainable params: 0 (0.00 Byte)\n",
            "_________________________________________________________________\n"
          ]
        }
      ]
    },
    {
      "cell_type": "code",
      "source": [
        "# Check if GPUs are available for training\n",
        "print(\"Num GPUs Available: \", len(tf.config.list_physical_devices('GPU')))"
      ],
      "metadata": {
        "id": "Fba0oYRl52YB",
        "outputId": "51601c28-c8f4-43b5-9332-e6bab9551661",
        "colab": {
          "base_uri": "https://localhost:8080/"
        }
      },
      "execution_count": 18,
      "outputs": [
        {
          "output_type": "stream",
          "name": "stdout",
          "text": [
            "Num GPUs Available:  0\n"
          ]
        }
      ]
    },
    {
      "cell_type": "code",
      "source": [
        "# Finally, train the model\n",
        "\n",
        "print(\"Starting training...\")\n",
        "history = model.fit(\n",
        "  train_ds,\n",
        "  validation_data=val_ds,\n",
        "  epochs=5,\n",
        "  verbose=1\n",
        ")\n",
        "\n",
        "!mkdir TrainedModelSave\n",
        "model.save(\"/content/TrainedModelSave\") # Saving the model\n",
        "\n",
        "print(\"Training finished.\")"
      ],
      "metadata": {
        "id": "5We0Lvnm55rx",
        "outputId": "c7f23529-3284-4fbb-e424-3eef7ebe3ada",
        "colab": {
          "base_uri": "https://localhost:8080/"
        }
      },
      "execution_count": 19,
      "outputs": [
        {
          "output_type": "stream",
          "name": "stdout",
          "text": [
            "Starting training...\n",
            "Epoch 1/5\n",
            "3125/3125 [==============================] - 89s 28ms/step - loss: 0.3273 - accuracy: 0.8595 - precision_1: 0.8509 - recall_1: 0.8719 - val_loss: 0.2918 - val_accuracy: 0.8804 - val_precision_1: 0.9086 - val_recall_1: 0.8459\n",
            "Epoch 2/5\n",
            "3125/3125 [==============================] - 84s 27ms/step - loss: 0.2259 - accuracy: 0.9097 - precision_1: 0.9034 - recall_1: 0.9175 - val_loss: 0.2397 - val_accuracy: 0.9069 - val_precision_1: 0.9448 - val_recall_1: 0.8643\n",
            "Epoch 3/5\n",
            "3125/3125 [==============================] - 88s 28ms/step - loss: 0.1889 - accuracy: 0.9258 - precision_1: 0.9226 - recall_1: 0.9295 - val_loss: 0.1905 - val_accuracy: 0.9250 - val_precision_1: 0.9218 - val_recall_1: 0.9287\n",
            "Epoch 4/5\n",
            "3125/3125 [==============================] - 89s 28ms/step - loss: 0.1643 - accuracy: 0.9355 - precision_1: 0.9324 - recall_1: 0.9392 - val_loss: 0.1920 - val_accuracy: 0.9251 - val_precision_1: 0.9358 - val_recall_1: 0.9128\n",
            "Epoch 5/5\n",
            "3125/3125 [==============================] - 86s 28ms/step - loss: 0.1423 - accuracy: 0.9446 - precision_1: 0.9420 - recall_1: 0.9475 - val_loss: 0.2066 - val_accuracy: 0.9222 - val_precision_1: 0.9524 - val_recall_1: 0.8887\n",
            "mkdir: cannot create directory ‘TrainedModelSave’: File exists\n",
            "Training finished.\n"
          ]
        }
      ]
    }
  ]
}