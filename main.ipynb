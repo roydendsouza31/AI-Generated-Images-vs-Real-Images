{
  "nbformat": 4,
  "nbformat_minor": 0,
  "metadata": {
    "colab": {
      "provenance": [],
      "gpuType": "T4",
      "mount_file_id": "https://github.com/roydendsouza31/AI-Generated-Images-vs-Real-Images/blob/R3/main.ipynb",
      "authorship_tag": "ABX9TyPPN4OmZCCgZmKcUFQ8hFxN",
      "include_colab_link": true
    },
    "kernelspec": {
      "name": "python3",
      "display_name": "Python 3"
    },
    "language_info": {
      "name": "python"
    },
    "accelerator": "GPU"
  },
  "cells": [
    {
      "cell_type": "markdown",
      "metadata": {
        "id": "view-in-github",
        "colab_type": "text"
      },
      "source": [
        "<a href=\"https://colab.research.google.com/github/roydendsouza31/AI-Generated-Images-vs-Real-Images/blob/R3/main.ipynb\" target=\"_parent\"><img src=\"https://colab.research.google.com/assets/colab-badge.svg\" alt=\"Open In Colab\"/></a>"
      ]
    },
    {
      "cell_type": "markdown",
      "source": [
        "AI Generated Images vs Real Images"
      ],
      "metadata": {
        "id": "B-d3dJn7ZsoM"
      }
    },
    {
      "cell_type": "code",
      "source": [
        "! pip install simple_image_download"
      ],
      "metadata": {
        "colab": {
          "base_uri": "https://localhost:8080/"
        },
        "id": "lIk-xzwDLrma",
        "outputId": "410f3a58-6596-4d47-9132-cf5d02e20c28"
      },
      "execution_count": 12,
      "outputs": [
        {
          "output_type": "stream",
          "name": "stdout",
          "text": [
            "Collecting simple_image_download\n",
            "  Downloading simple_image_download-0.5-py3-none-any.whl (7.0 kB)\n",
            "Requirement already satisfied: requests in /usr/local/lib/python3.10/dist-packages (from simple_image_download) (2.31.0)\n",
            "INFO: pip is looking at multiple versions of simple-image-download to determine which version is compatible with other requirements. This could take a while.\n",
            "  Downloading simple_image_download-0.4-py3-none-any.whl (4.9 kB)\n",
            "  Downloading simple_image_download-0.2-py3-none-any.whl (3.8 kB)\n",
            "Requirement already satisfied: charset-normalizer<4,>=2 in /usr/local/lib/python3.10/dist-packages (from requests->simple_image_download) (3.3.2)\n",
            "Requirement already satisfied: idna<4,>=2.5 in /usr/local/lib/python3.10/dist-packages (from requests->simple_image_download) (3.6)\n",
            "Requirement already satisfied: urllib3<3,>=1.21.1 in /usr/local/lib/python3.10/dist-packages (from requests->simple_image_download) (2.0.7)\n",
            "Requirement already satisfied: certifi>=2017.4.17 in /usr/local/lib/python3.10/dist-packages (from requests->simple_image_download) (2024.2.2)\n",
            "Installing collected packages: simple_image_download\n",
            "Successfully installed simple_image_download-0.2\n"
          ]
        }
      ]
    },
    {
      "cell_type": "code",
      "source": [
        "import numpy as np\n",
        "import matplotlib.pyplot as plt\n",
        "import os\n",
        "import cv2 as cv\n",
        "from simple_image_download import simple_image_download as simp\n",
        "import random\n",
        "import PIL\n",
        "import pickle"
      ],
      "metadata": {
        "id": "uLamTPbUIUJH"
      },
      "execution_count": 13,
      "outputs": []
    },
    {
      "cell_type": "code",
      "source": [
        "#!rm -r simple_images"
      ],
      "metadata": {
        "id": "PuT--OpDRphi"
      },
      "execution_count": 20,
      "outputs": []
    },
    {
      "cell_type": "code",
      "source": [
        "response = simp.simple_image_download\n",
        "limit = 100\n",
        "response().download(\"ai generated images\", 100)"
      ],
      "metadata": {
        "id": "kFzc-WMdRnSB"
      },
      "execution_count": 21,
      "outputs": []
    },
    {
      "cell_type": "code",
      "source": [
        "response().download(\"ai generated art\", 100)"
      ],
      "metadata": {
        "colab": {
          "base_uri": "https://localhost:8080/"
        },
        "id": "dpn8_YWGSV3G",
        "outputId": "139a2f23-ca27-4dc5-a456-1fa28c6b3b1b"
      },
      "execution_count": 22,
      "outputs": [
        {
          "output_type": "stream",
          "name": "stdout",
          "text": [
            "HTTPConnectionPool(host='no.access', port=80): Max retries exceeded with url: / (Caused by NameResolutionError(\"<urllib3.connection.HTTPConnection object at 0x7b4ad28318d0>: Failed to resolve 'no.access' ([Errno -2] Name or service not known)\"))\n"
          ]
        }
      ]
    },
    {
      "cell_type": "code",
      "source": [
        "response().download(\"ai generated characters\", 100)"
      ],
      "metadata": {
        "id": "I7ak4efrSZXJ"
      },
      "execution_count": 23,
      "outputs": []
    },
    {
      "cell_type": "code",
      "source": [
        "response().download('stable diffusion', 100)"
      ],
      "metadata": {
        "id": "pT7t878_Sc-a"
      },
      "execution_count": 25,
      "outputs": []
    },
    {
      "cell_type": "code",
      "source": [
        "response().download('dalle2 generated images', 100)"
      ],
      "metadata": {
        "id": "ZRwE_RrISepi"
      },
      "execution_count": 24,
      "outputs": []
    },
    {
      "cell_type": "code",
      "source": [
        "response().download('midjourney', 100)"
      ],
      "metadata": {
        "id": "teUtERrOLyDM"
      },
      "execution_count": 26,
      "outputs": []
    },
    {
      "cell_type": "code",
      "source": [
        "response().download('cityscapes', 100)"
      ],
      "metadata": {
        "id": "N0TzVeMjTFQX"
      },
      "execution_count": 28,
      "outputs": []
    },
    {
      "cell_type": "code",
      "source": [
        "response().download('animals', 100)"
      ],
      "metadata": {
        "id": "At3H4MQzTHHz"
      },
      "execution_count": 29,
      "outputs": []
    },
    {
      "cell_type": "code",
      "source": [
        "response().download('vehicles', 50)"
      ],
      "metadata": {
        "colab": {
          "base_uri": "https://localhost:8080/"
        },
        "id": "4nrP7uToTIo_",
        "outputId": "cbf84454-550b-4a16-f37d-436ed19670a7"
      },
      "execution_count": 30,
      "outputs": [
        {
          "output_type": "stream",
          "name": "stdout",
          "text": [
            "HTTPSConnectionPool(host='oshkoshdefense.com', port=443): Max retries exceeded with url: /wp-content/uploads/2022/07/201007-M-EM580-1191-Marines-1.jpg (Caused by SSLError(SSLError(1, '[SSL: SSLV3_ALERT_HANDSHAKE_FAILURE] sslv3 alert handshake failure (_ssl.c:1007)')))\n"
          ]
        }
      ]
    },
    {
      "cell_type": "code",
      "source": [
        "response().download('traffic', 50)"
      ],
      "metadata": {
        "colab": {
          "base_uri": "https://localhost:8080/"
        },
        "id": "vzx1DGnYTKj5",
        "outputId": "e5396fef-056b-48d5-b238-8de714f0d290"
      },
      "execution_count": 31,
      "outputs": [
        {
          "output_type": "stream",
          "name": "stdout",
          "text": [
            "HTTPSConnectionPool(host='www.progressive.com', port=443): Max retries exceeded with url: /lifelanes/wp-content/uploads/2023/09/TrafFicJam_Banner.jpg (Caused by SSLError(SSLCertVerificationError(1, '[SSL: CERTIFICATE_VERIFY_FAILED] certificate verify failed: unable to get local issuer certificate (_ssl.c:1007)')))\n"
          ]
        }
      ]
    },
    {
      "cell_type": "code",
      "source": [
        "response().download('offices', 30)"
      ],
      "metadata": {
        "id": "EVDKvbuMTL9T"
      },
      "execution_count": 42,
      "outputs": []
    },
    {
      "cell_type": "code",
      "source": [
        "response().download('real food images', 50)"
      ],
      "metadata": {
        "id": "D6eZ2WezTNVt"
      },
      "execution_count": 33,
      "outputs": []
    },
    {
      "cell_type": "code",
      "source": [
        "response().download('landscape', 13)"
      ],
      "metadata": {
        "id": "zk8zn94XTDvH"
      },
      "execution_count": 47,
      "outputs": []
    }
  ]
}